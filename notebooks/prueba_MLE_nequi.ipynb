{
 "cells": [
  {
   "cell_type": "code",
   "execution_count": 40,
   "id": "1f42ac88",
   "metadata": {},
   "outputs": [],
   "source": [
    "import numpy as np\n",
    "import pandas as pd\n",
    "\n",
    "from dotenv import load_dotenv\n",
    "import os\n",
    "\n",
    "import unicodedata\n",
    "import nltk\n",
    "import spacy\n",
    "from nltk.corpus import stopwords\n",
    "from nltk.tokenize import word_tokenize\n",
    "from sklearn.feature_extraction.text import TfidfVectorizer\n",
    "from sklearn.model_selection import train_test_split\n",
    "from catboost import CatBoostClassifier\n",
    "from sklearn.metrics import classification_report, accuracy_score\n",
    "from sklearn.metrics import confusion_matrix, roc_auc_score\n",
    "from sklearn.metrics import precision_recall_curve, auc, precision_score, recall_score, f1_score, fbeta_score, roc_curve, average_precision_score\n",
    "import matplotlib.pyplot as plt\n",
    "import seaborn as sns\n",
    "from sklearn.metrics import ConfusionMatrixDisplay\n",
    "import logging\n",
    "import json\n",
    "import re\n",
    "import string \n",
    "import joblib\n",
    "import warnings\n",
    "from hyperopt import STATUS_OK, Trials, fmin, hp, tpe\n",
    "import mlflow\n",
    "import mlflow.sklearn\n",
    "from sklearn.pipeline import Pipeline\n",
    "from mlflow.models.signature import infer_signature\n",
    "\n",
    "warnings.filterwarnings(\"ignore\")"
   ]
  },
  {
   "cell_type": "code",
   "execution_count": 2,
   "id": "ca22b3f0",
   "metadata": {},
   "outputs": [],
   "source": [
    "load_dotenv()\n",
    "ruta_cst_sample = os.getenv(\"customer_support_twitter_sample\")\n",
    "ruta_cst_twcs = os.getenv(\"customer_support_twitter_twcs\")\n",
    "\n",
    "ruta_gpsa = os.getenv(\"google_play_store_apps\")\n",
    "ruta_gpsa_user_r = os.getenv(\"google_play_store_apps_user_reviews\")\n",
    "\n",
    "ruta_ncd = os.getenv(\"news_category_dataset\")\n",
    "\n",
    "ruta_yadb = os.getenv(\"yelp_academic_dataset_business\")\n",
    "ruta_yadc = os.getenv(\"yelp_academic_dataset_checkin\")\n",
    "ruta_yadr = os.getenv(\"yelp_academic_dataset_review\")\n",
    "ruta_yadt = os.getenv(\"yelp_academic_dataset_tip\")\n",
    "ruta_yadu = os.getenv(\"yelp_academic_dataset_user\")"
   ]
  },
  {
   "cell_type": "code",
   "execution_count": 3,
   "id": "6ebb8a98",
   "metadata": {},
   "outputs": [
    {
     "data": {
      "text/plain": [
       "(93, 7)"
      ]
     },
     "execution_count": 3,
     "metadata": {},
     "output_type": "execute_result"
    }
   ],
   "source": [
    "sample_cst = pd.read_csv(ruta_cst_sample)\n",
    "sample_cst.shape"
   ]
  },
  {
   "cell_type": "code",
   "execution_count": 4,
   "id": "2415ad23",
   "metadata": {},
   "outputs": [
    {
     "data": {
      "text/html": [
       "<div>\n",
       "<style scoped>\n",
       "    .dataframe tbody tr th:only-of-type {\n",
       "        vertical-align: middle;\n",
       "    }\n",
       "\n",
       "    .dataframe tbody tr th {\n",
       "        vertical-align: top;\n",
       "    }\n",
       "\n",
       "    .dataframe thead th {\n",
       "        text-align: right;\n",
       "    }\n",
       "</style>\n",
       "<table border=\"1\" class=\"dataframe\">\n",
       "  <thead>\n",
       "    <tr style=\"text-align: right;\">\n",
       "      <th></th>\n",
       "      <th>tweet_id</th>\n",
       "      <th>author_id</th>\n",
       "      <th>inbound</th>\n",
       "      <th>created_at</th>\n",
       "      <th>text</th>\n",
       "      <th>response_tweet_id</th>\n",
       "      <th>in_response_to_tweet_id</th>\n",
       "    </tr>\n",
       "  </thead>\n",
       "  <tbody>\n",
       "    <tr>\n",
       "      <th>0</th>\n",
       "      <td>119237</td>\n",
       "      <td>105834</td>\n",
       "      <td>True</td>\n",
       "      <td>Wed Oct 11 06:55:44 +0000 2017</td>\n",
       "      <td>@AppleSupport causing the reply to be disregar...</td>\n",
       "      <td>119236</td>\n",
       "      <td>NaN</td>\n",
       "    </tr>\n",
       "    <tr>\n",
       "      <th>1</th>\n",
       "      <td>119238</td>\n",
       "      <td>ChaseSupport</td>\n",
       "      <td>False</td>\n",
       "      <td>Wed Oct 11 13:25:49 +0000 2017</td>\n",
       "      <td>@105835 Your business means a lot to us. Pleas...</td>\n",
       "      <td>NaN</td>\n",
       "      <td>119239.0</td>\n",
       "    </tr>\n",
       "    <tr>\n",
       "      <th>2</th>\n",
       "      <td>119239</td>\n",
       "      <td>105835</td>\n",
       "      <td>True</td>\n",
       "      <td>Wed Oct 11 13:00:09 +0000 2017</td>\n",
       "      <td>@76328 I really hope you all change but I'm su...</td>\n",
       "      <td>119238</td>\n",
       "      <td>NaN</td>\n",
       "    </tr>\n",
       "    <tr>\n",
       "      <th>3</th>\n",
       "      <td>119240</td>\n",
       "      <td>VirginTrains</td>\n",
       "      <td>False</td>\n",
       "      <td>Tue Oct 10 15:16:08 +0000 2017</td>\n",
       "      <td>@105836 LiveChat is online at the moment - htt...</td>\n",
       "      <td>119241</td>\n",
       "      <td>119242.0</td>\n",
       "    </tr>\n",
       "    <tr>\n",
       "      <th>4</th>\n",
       "      <td>119241</td>\n",
       "      <td>105836</td>\n",
       "      <td>True</td>\n",
       "      <td>Tue Oct 10 15:17:21 +0000 2017</td>\n",
       "      <td>@VirginTrains see attached error message. I've...</td>\n",
       "      <td>119243</td>\n",
       "      <td>119240.0</td>\n",
       "    </tr>\n",
       "  </tbody>\n",
       "</table>\n",
       "</div>"
      ],
      "text/plain": [
       "   tweet_id     author_id  inbound                      created_at  \\\n",
       "0    119237        105834     True  Wed Oct 11 06:55:44 +0000 2017   \n",
       "1    119238  ChaseSupport    False  Wed Oct 11 13:25:49 +0000 2017   \n",
       "2    119239        105835     True  Wed Oct 11 13:00:09 +0000 2017   \n",
       "3    119240  VirginTrains    False  Tue Oct 10 15:16:08 +0000 2017   \n",
       "4    119241        105836     True  Tue Oct 10 15:17:21 +0000 2017   \n",
       "\n",
       "                                                text response_tweet_id  \\\n",
       "0  @AppleSupport causing the reply to be disregar...            119236   \n",
       "1  @105835 Your business means a lot to us. Pleas...               NaN   \n",
       "2  @76328 I really hope you all change but I'm su...            119238   \n",
       "3  @105836 LiveChat is online at the moment - htt...            119241   \n",
       "4  @VirginTrains see attached error message. I've...            119243   \n",
       "\n",
       "   in_response_to_tweet_id  \n",
       "0                      NaN  \n",
       "1                 119239.0  \n",
       "2                      NaN  \n",
       "3                 119242.0  \n",
       "4                 119240.0  "
      ]
     },
     "execution_count": 4,
     "metadata": {},
     "output_type": "execute_result"
    }
   ],
   "source": [
    "sample_cst.head()"
   ]
  },
  {
   "cell_type": "code",
   "execution_count": 3,
   "id": "e4a5bedd",
   "metadata": {},
   "outputs": [
    {
     "data": {
      "text/plain": [
       "(2811774, 7)"
      ]
     },
     "execution_count": 3,
     "metadata": {},
     "output_type": "execute_result"
    }
   ],
   "source": [
    "data_cst_twcs = pd.read_csv(ruta_cst_twcs)\n",
    "data_cst_twcs.shape"
   ]
  },
  {
   "cell_type": "code",
   "execution_count": 4,
   "id": "c596e27b",
   "metadata": {},
   "outputs": [
    {
     "data": {
      "text/html": [
       "<div>\n",
       "<style scoped>\n",
       "    .dataframe tbody tr th:only-of-type {\n",
       "        vertical-align: middle;\n",
       "    }\n",
       "\n",
       "    .dataframe tbody tr th {\n",
       "        vertical-align: top;\n",
       "    }\n",
       "\n",
       "    .dataframe thead th {\n",
       "        text-align: right;\n",
       "    }\n",
       "</style>\n",
       "<table border=\"1\" class=\"dataframe\">\n",
       "  <thead>\n",
       "    <tr style=\"text-align: right;\">\n",
       "      <th></th>\n",
       "      <th>tweet_id</th>\n",
       "      <th>author_id</th>\n",
       "      <th>inbound</th>\n",
       "      <th>created_at</th>\n",
       "      <th>text</th>\n",
       "      <th>response_tweet_id</th>\n",
       "      <th>in_response_to_tweet_id</th>\n",
       "    </tr>\n",
       "  </thead>\n",
       "  <tbody>\n",
       "    <tr>\n",
       "      <th>0</th>\n",
       "      <td>1</td>\n",
       "      <td>sprintcare</td>\n",
       "      <td>False</td>\n",
       "      <td>Tue Oct 31 22:10:47 +0000 2017</td>\n",
       "      <td>@115712 I understand. I would like to assist y...</td>\n",
       "      <td>2</td>\n",
       "      <td>3.0</td>\n",
       "    </tr>\n",
       "    <tr>\n",
       "      <th>1</th>\n",
       "      <td>2</td>\n",
       "      <td>115712</td>\n",
       "      <td>True</td>\n",
       "      <td>Tue Oct 31 22:11:45 +0000 2017</td>\n",
       "      <td>@sprintcare and how do you propose we do that</td>\n",
       "      <td>NaN</td>\n",
       "      <td>1.0</td>\n",
       "    </tr>\n",
       "    <tr>\n",
       "      <th>2</th>\n",
       "      <td>3</td>\n",
       "      <td>115712</td>\n",
       "      <td>True</td>\n",
       "      <td>Tue Oct 31 22:08:27 +0000 2017</td>\n",
       "      <td>@sprintcare I have sent several private messag...</td>\n",
       "      <td>1</td>\n",
       "      <td>4.0</td>\n",
       "    </tr>\n",
       "    <tr>\n",
       "      <th>3</th>\n",
       "      <td>4</td>\n",
       "      <td>sprintcare</td>\n",
       "      <td>False</td>\n",
       "      <td>Tue Oct 31 21:54:49 +0000 2017</td>\n",
       "      <td>@115712 Please send us a Private Message so th...</td>\n",
       "      <td>3</td>\n",
       "      <td>5.0</td>\n",
       "    </tr>\n",
       "    <tr>\n",
       "      <th>4</th>\n",
       "      <td>5</td>\n",
       "      <td>115712</td>\n",
       "      <td>True</td>\n",
       "      <td>Tue Oct 31 21:49:35 +0000 2017</td>\n",
       "      <td>@sprintcare I did.</td>\n",
       "      <td>4</td>\n",
       "      <td>6.0</td>\n",
       "    </tr>\n",
       "  </tbody>\n",
       "</table>\n",
       "</div>"
      ],
      "text/plain": [
       "   tweet_id   author_id  inbound                      created_at  \\\n",
       "0         1  sprintcare    False  Tue Oct 31 22:10:47 +0000 2017   \n",
       "1         2      115712     True  Tue Oct 31 22:11:45 +0000 2017   \n",
       "2         3      115712     True  Tue Oct 31 22:08:27 +0000 2017   \n",
       "3         4  sprintcare    False  Tue Oct 31 21:54:49 +0000 2017   \n",
       "4         5      115712     True  Tue Oct 31 21:49:35 +0000 2017   \n",
       "\n",
       "                                                text response_tweet_id  \\\n",
       "0  @115712 I understand. I would like to assist y...                 2   \n",
       "1      @sprintcare and how do you propose we do that               NaN   \n",
       "2  @sprintcare I have sent several private messag...                 1   \n",
       "3  @115712 Please send us a Private Message so th...                 3   \n",
       "4                                 @sprintcare I did.                 4   \n",
       "\n",
       "   in_response_to_tweet_id  \n",
       "0                      3.0  \n",
       "1                      1.0  \n",
       "2                      4.0  \n",
       "3                      5.0  \n",
       "4                      6.0  "
      ]
     },
     "execution_count": 4,
     "metadata": {},
     "output_type": "execute_result"
    }
   ],
   "source": [
    "data_cst_twcs.head()"
   ]
  },
  {
   "cell_type": "code",
   "execution_count": 6,
   "id": "5bf83f35",
   "metadata": {},
   "outputs": [
    {
     "data": {
      "text/plain": [
       "(10841, 13)"
      ]
     },
     "execution_count": 6,
     "metadata": {},
     "output_type": "execute_result"
    }
   ],
   "source": [
    "data_gpsa = pd.read_csv(ruta_gpsa)\n",
    "data_gpsa.shape"
   ]
  },
  {
   "cell_type": "code",
   "execution_count": 7,
   "id": "6c0b8477",
   "metadata": {},
   "outputs": [
    {
     "data": {
      "text/plain": [
       "(64295, 5)"
      ]
     },
     "execution_count": 7,
     "metadata": {},
     "output_type": "execute_result"
    }
   ],
   "source": [
    "data_gpsa_user_r = pd.read_csv(ruta_gpsa_user_r)\n",
    "data_gpsa_user_r.shape"
   ]
  },
  {
   "cell_type": "code",
   "execution_count": 8,
   "id": "e2c4c13d",
   "metadata": {},
   "outputs": [
    {
     "data": {
      "text/html": [
       "<div>\n",
       "<style scoped>\n",
       "    .dataframe tbody tr th:only-of-type {\n",
       "        vertical-align: middle;\n",
       "    }\n",
       "\n",
       "    .dataframe tbody tr th {\n",
       "        vertical-align: top;\n",
       "    }\n",
       "\n",
       "    .dataframe thead th {\n",
       "        text-align: right;\n",
       "    }\n",
       "</style>\n",
       "<table border=\"1\" class=\"dataframe\">\n",
       "  <thead>\n",
       "    <tr style=\"text-align: right;\">\n",
       "      <th></th>\n",
       "      <th>App</th>\n",
       "      <th>Translated_Review</th>\n",
       "      <th>Sentiment</th>\n",
       "      <th>Sentiment_Polarity</th>\n",
       "      <th>Sentiment_Subjectivity</th>\n",
       "    </tr>\n",
       "  </thead>\n",
       "  <tbody>\n",
       "    <tr>\n",
       "      <th>0</th>\n",
       "      <td>10 Best Foods for You</td>\n",
       "      <td>I like eat delicious food. That's I'm cooking ...</td>\n",
       "      <td>Positive</td>\n",
       "      <td>1.00</td>\n",
       "      <td>0.533333</td>\n",
       "    </tr>\n",
       "    <tr>\n",
       "      <th>1</th>\n",
       "      <td>10 Best Foods for You</td>\n",
       "      <td>This help eating healthy exercise regular basis</td>\n",
       "      <td>Positive</td>\n",
       "      <td>0.25</td>\n",
       "      <td>0.288462</td>\n",
       "    </tr>\n",
       "    <tr>\n",
       "      <th>2</th>\n",
       "      <td>10 Best Foods for You</td>\n",
       "      <td>NaN</td>\n",
       "      <td>NaN</td>\n",
       "      <td>NaN</td>\n",
       "      <td>NaN</td>\n",
       "    </tr>\n",
       "    <tr>\n",
       "      <th>3</th>\n",
       "      <td>10 Best Foods for You</td>\n",
       "      <td>Works great especially going grocery store</td>\n",
       "      <td>Positive</td>\n",
       "      <td>0.40</td>\n",
       "      <td>0.875000</td>\n",
       "    </tr>\n",
       "    <tr>\n",
       "      <th>4</th>\n",
       "      <td>10 Best Foods for You</td>\n",
       "      <td>Best idea us</td>\n",
       "      <td>Positive</td>\n",
       "      <td>1.00</td>\n",
       "      <td>0.300000</td>\n",
       "    </tr>\n",
       "  </tbody>\n",
       "</table>\n",
       "</div>"
      ],
      "text/plain": [
       "                     App                                  Translated_Review  \\\n",
       "0  10 Best Foods for You  I like eat delicious food. That's I'm cooking ...   \n",
       "1  10 Best Foods for You    This help eating healthy exercise regular basis   \n",
       "2  10 Best Foods for You                                                NaN   \n",
       "3  10 Best Foods for You         Works great especially going grocery store   \n",
       "4  10 Best Foods for You                                       Best idea us   \n",
       "\n",
       "  Sentiment  Sentiment_Polarity  Sentiment_Subjectivity  \n",
       "0  Positive                1.00                0.533333  \n",
       "1  Positive                0.25                0.288462  \n",
       "2       NaN                 NaN                     NaN  \n",
       "3  Positive                0.40                0.875000  \n",
       "4  Positive                1.00                0.300000  "
      ]
     },
     "execution_count": 8,
     "metadata": {},
     "output_type": "execute_result"
    }
   ],
   "source": [
    "data_gpsa_user_r.head()"
   ]
  },
  {
   "cell_type": "code",
   "execution_count": 9,
   "id": "55f59f06",
   "metadata": {},
   "outputs": [
    {
     "data": {
      "text/plain": [
       "(209527, 6)"
      ]
     },
     "execution_count": 9,
     "metadata": {},
     "output_type": "execute_result"
    }
   ],
   "source": [
    "data_ncd = pd.read_json(ruta_ncd, lines=True)\n",
    "data_ncd.shape"
   ]
  },
  {
   "cell_type": "code",
   "execution_count": 10,
   "id": "80f54269",
   "metadata": {},
   "outputs": [
    {
     "data": {
      "text/html": [
       "<div>\n",
       "<style scoped>\n",
       "    .dataframe tbody tr th:only-of-type {\n",
       "        vertical-align: middle;\n",
       "    }\n",
       "\n",
       "    .dataframe tbody tr th {\n",
       "        vertical-align: top;\n",
       "    }\n",
       "\n",
       "    .dataframe thead th {\n",
       "        text-align: right;\n",
       "    }\n",
       "</style>\n",
       "<table border=\"1\" class=\"dataframe\">\n",
       "  <thead>\n",
       "    <tr style=\"text-align: right;\">\n",
       "      <th></th>\n",
       "      <th>link</th>\n",
       "      <th>headline</th>\n",
       "      <th>category</th>\n",
       "      <th>short_description</th>\n",
       "      <th>authors</th>\n",
       "      <th>date</th>\n",
       "    </tr>\n",
       "  </thead>\n",
       "  <tbody>\n",
       "    <tr>\n",
       "      <th>0</th>\n",
       "      <td>https://www.huffpost.com/entry/covid-boosters-...</td>\n",
       "      <td>Over 4 Million Americans Roll Up Sleeves For O...</td>\n",
       "      <td>U.S. NEWS</td>\n",
       "      <td>Health experts said it is too early to predict...</td>\n",
       "      <td>Carla K. Johnson, AP</td>\n",
       "      <td>2022-09-23</td>\n",
       "    </tr>\n",
       "    <tr>\n",
       "      <th>1</th>\n",
       "      <td>https://www.huffpost.com/entry/american-airlin...</td>\n",
       "      <td>American Airlines Flyer Charged, Banned For Li...</td>\n",
       "      <td>U.S. NEWS</td>\n",
       "      <td>He was subdued by passengers and crew when he ...</td>\n",
       "      <td>Mary Papenfuss</td>\n",
       "      <td>2022-09-23</td>\n",
       "    </tr>\n",
       "    <tr>\n",
       "      <th>2</th>\n",
       "      <td>https://www.huffpost.com/entry/funniest-tweets...</td>\n",
       "      <td>23 Of The Funniest Tweets About Cats And Dogs ...</td>\n",
       "      <td>COMEDY</td>\n",
       "      <td>\"Until you have a dog you don't understand wha...</td>\n",
       "      <td>Elyse Wanshel</td>\n",
       "      <td>2022-09-23</td>\n",
       "    </tr>\n",
       "    <tr>\n",
       "      <th>3</th>\n",
       "      <td>https://www.huffpost.com/entry/funniest-parent...</td>\n",
       "      <td>The Funniest Tweets From Parents This Week (Se...</td>\n",
       "      <td>PARENTING</td>\n",
       "      <td>\"Accidentally put grown-up toothpaste on my to...</td>\n",
       "      <td>Caroline Bologna</td>\n",
       "      <td>2022-09-23</td>\n",
       "    </tr>\n",
       "    <tr>\n",
       "      <th>4</th>\n",
       "      <td>https://www.huffpost.com/entry/amy-cooper-lose...</td>\n",
       "      <td>Woman Who Called Cops On Black Bird-Watcher Lo...</td>\n",
       "      <td>U.S. NEWS</td>\n",
       "      <td>Amy Cooper accused investment firm Franklin Te...</td>\n",
       "      <td>Nina Golgowski</td>\n",
       "      <td>2022-09-22</td>\n",
       "    </tr>\n",
       "  </tbody>\n",
       "</table>\n",
       "</div>"
      ],
      "text/plain": [
       "                                                link  \\\n",
       "0  https://www.huffpost.com/entry/covid-boosters-...   \n",
       "1  https://www.huffpost.com/entry/american-airlin...   \n",
       "2  https://www.huffpost.com/entry/funniest-tweets...   \n",
       "3  https://www.huffpost.com/entry/funniest-parent...   \n",
       "4  https://www.huffpost.com/entry/amy-cooper-lose...   \n",
       "\n",
       "                                            headline   category  \\\n",
       "0  Over 4 Million Americans Roll Up Sleeves For O...  U.S. NEWS   \n",
       "1  American Airlines Flyer Charged, Banned For Li...  U.S. NEWS   \n",
       "2  23 Of The Funniest Tweets About Cats And Dogs ...     COMEDY   \n",
       "3  The Funniest Tweets From Parents This Week (Se...  PARENTING   \n",
       "4  Woman Who Called Cops On Black Bird-Watcher Lo...  U.S. NEWS   \n",
       "\n",
       "                                   short_description               authors  \\\n",
       "0  Health experts said it is too early to predict...  Carla K. Johnson, AP   \n",
       "1  He was subdued by passengers and crew when he ...        Mary Papenfuss   \n",
       "2  \"Until you have a dog you don't understand wha...         Elyse Wanshel   \n",
       "3  \"Accidentally put grown-up toothpaste on my to...      Caroline Bologna   \n",
       "4  Amy Cooper accused investment firm Franklin Te...        Nina Golgowski   \n",
       "\n",
       "        date  \n",
       "0 2022-09-23  \n",
       "1 2022-09-23  \n",
       "2 2022-09-23  \n",
       "3 2022-09-23  \n",
       "4 2022-09-22  "
      ]
     },
     "execution_count": 10,
     "metadata": {},
     "output_type": "execute_result"
    }
   ],
   "source": [
    "data_ncd.head()"
   ]
  },
  {
   "cell_type": "code",
   "execution_count": 11,
   "id": "b8a58bbc",
   "metadata": {},
   "outputs": [
    {
     "data": {
      "text/plain": [
       "(150346, 14)"
      ]
     },
     "execution_count": 11,
     "metadata": {},
     "output_type": "execute_result"
    }
   ],
   "source": [
    "data_yadb = pd.read_json(ruta_yadb, lines=True)\n",
    "data_yadb.shape"
   ]
  },
  {
   "cell_type": "code",
   "execution_count": 12,
   "id": "cb6997b5",
   "metadata": {},
   "outputs": [
    {
     "data": {
      "text/html": [
       "<div>\n",
       "<style scoped>\n",
       "    .dataframe tbody tr th:only-of-type {\n",
       "        vertical-align: middle;\n",
       "    }\n",
       "\n",
       "    .dataframe tbody tr th {\n",
       "        vertical-align: top;\n",
       "    }\n",
       "\n",
       "    .dataframe thead th {\n",
       "        text-align: right;\n",
       "    }\n",
       "</style>\n",
       "<table border=\"1\" class=\"dataframe\">\n",
       "  <thead>\n",
       "    <tr style=\"text-align: right;\">\n",
       "      <th></th>\n",
       "      <th>business_id</th>\n",
       "      <th>name</th>\n",
       "      <th>address</th>\n",
       "      <th>city</th>\n",
       "      <th>state</th>\n",
       "      <th>postal_code</th>\n",
       "      <th>latitude</th>\n",
       "      <th>longitude</th>\n",
       "      <th>stars</th>\n",
       "      <th>review_count</th>\n",
       "      <th>is_open</th>\n",
       "      <th>attributes</th>\n",
       "      <th>categories</th>\n",
       "      <th>hours</th>\n",
       "    </tr>\n",
       "  </thead>\n",
       "  <tbody>\n",
       "    <tr>\n",
       "      <th>0</th>\n",
       "      <td>Pns2l4eNsfO8kk83dixA6A</td>\n",
       "      <td>Abby Rappoport, LAC, CMQ</td>\n",
       "      <td>1616 Chapala St, Ste 2</td>\n",
       "      <td>Santa Barbara</td>\n",
       "      <td>CA</td>\n",
       "      <td>93101</td>\n",
       "      <td>34.426679</td>\n",
       "      <td>-119.711197</td>\n",
       "      <td>5.0</td>\n",
       "      <td>7</td>\n",
       "      <td>0</td>\n",
       "      <td>{'ByAppointmentOnly': 'True'}</td>\n",
       "      <td>Doctors, Traditional Chinese Medicine, Naturop...</td>\n",
       "      <td>None</td>\n",
       "    </tr>\n",
       "    <tr>\n",
       "      <th>1</th>\n",
       "      <td>mpf3x-BjTdTEA3yCZrAYPw</td>\n",
       "      <td>The UPS Store</td>\n",
       "      <td>87 Grasso Plaza Shopping Center</td>\n",
       "      <td>Affton</td>\n",
       "      <td>MO</td>\n",
       "      <td>63123</td>\n",
       "      <td>38.551126</td>\n",
       "      <td>-90.335695</td>\n",
       "      <td>3.0</td>\n",
       "      <td>15</td>\n",
       "      <td>1</td>\n",
       "      <td>{'BusinessAcceptsCreditCards': 'True'}</td>\n",
       "      <td>Shipping Centers, Local Services, Notaries, Ma...</td>\n",
       "      <td>{'Monday': '0:0-0:0', 'Tuesday': '8:0-18:30', ...</td>\n",
       "    </tr>\n",
       "    <tr>\n",
       "      <th>2</th>\n",
       "      <td>tUFrWirKiKi_TAnsVWINQQ</td>\n",
       "      <td>Target</td>\n",
       "      <td>5255 E Broadway Blvd</td>\n",
       "      <td>Tucson</td>\n",
       "      <td>AZ</td>\n",
       "      <td>85711</td>\n",
       "      <td>32.223236</td>\n",
       "      <td>-110.880452</td>\n",
       "      <td>3.5</td>\n",
       "      <td>22</td>\n",
       "      <td>0</td>\n",
       "      <td>{'BikeParking': 'True', 'BusinessAcceptsCredit...</td>\n",
       "      <td>Department Stores, Shopping, Fashion, Home &amp; G...</td>\n",
       "      <td>{'Monday': '8:0-22:0', 'Tuesday': '8:0-22:0', ...</td>\n",
       "    </tr>\n",
       "    <tr>\n",
       "      <th>3</th>\n",
       "      <td>MTSW4McQd7CbVtyjqoe9mw</td>\n",
       "      <td>St Honore Pastries</td>\n",
       "      <td>935 Race St</td>\n",
       "      <td>Philadelphia</td>\n",
       "      <td>PA</td>\n",
       "      <td>19107</td>\n",
       "      <td>39.955505</td>\n",
       "      <td>-75.155564</td>\n",
       "      <td>4.0</td>\n",
       "      <td>80</td>\n",
       "      <td>1</td>\n",
       "      <td>{'RestaurantsDelivery': 'False', 'OutdoorSeati...</td>\n",
       "      <td>Restaurants, Food, Bubble Tea, Coffee &amp; Tea, B...</td>\n",
       "      <td>{'Monday': '7:0-20:0', 'Tuesday': '7:0-20:0', ...</td>\n",
       "    </tr>\n",
       "    <tr>\n",
       "      <th>4</th>\n",
       "      <td>mWMc6_wTdE0EUBKIGXDVfA</td>\n",
       "      <td>Perkiomen Valley Brewery</td>\n",
       "      <td>101 Walnut St</td>\n",
       "      <td>Green Lane</td>\n",
       "      <td>PA</td>\n",
       "      <td>18054</td>\n",
       "      <td>40.338183</td>\n",
       "      <td>-75.471659</td>\n",
       "      <td>4.5</td>\n",
       "      <td>13</td>\n",
       "      <td>1</td>\n",
       "      <td>{'BusinessAcceptsCreditCards': 'True', 'Wheelc...</td>\n",
       "      <td>Brewpubs, Breweries, Food</td>\n",
       "      <td>{'Wednesday': '14:0-22:0', 'Thursday': '16:0-2...</td>\n",
       "    </tr>\n",
       "  </tbody>\n",
       "</table>\n",
       "</div>"
      ],
      "text/plain": [
       "              business_id                      name  \\\n",
       "0  Pns2l4eNsfO8kk83dixA6A  Abby Rappoport, LAC, CMQ   \n",
       "1  mpf3x-BjTdTEA3yCZrAYPw             The UPS Store   \n",
       "2  tUFrWirKiKi_TAnsVWINQQ                    Target   \n",
       "3  MTSW4McQd7CbVtyjqoe9mw        St Honore Pastries   \n",
       "4  mWMc6_wTdE0EUBKIGXDVfA  Perkiomen Valley Brewery   \n",
       "\n",
       "                           address           city state postal_code  \\\n",
       "0           1616 Chapala St, Ste 2  Santa Barbara    CA       93101   \n",
       "1  87 Grasso Plaza Shopping Center         Affton    MO       63123   \n",
       "2             5255 E Broadway Blvd         Tucson    AZ       85711   \n",
       "3                      935 Race St   Philadelphia    PA       19107   \n",
       "4                    101 Walnut St     Green Lane    PA       18054   \n",
       "\n",
       "    latitude   longitude  stars  review_count  is_open  \\\n",
       "0  34.426679 -119.711197    5.0             7        0   \n",
       "1  38.551126  -90.335695    3.0            15        1   \n",
       "2  32.223236 -110.880452    3.5            22        0   \n",
       "3  39.955505  -75.155564    4.0            80        1   \n",
       "4  40.338183  -75.471659    4.5            13        1   \n",
       "\n",
       "                                          attributes  \\\n",
       "0                      {'ByAppointmentOnly': 'True'}   \n",
       "1             {'BusinessAcceptsCreditCards': 'True'}   \n",
       "2  {'BikeParking': 'True', 'BusinessAcceptsCredit...   \n",
       "3  {'RestaurantsDelivery': 'False', 'OutdoorSeati...   \n",
       "4  {'BusinessAcceptsCreditCards': 'True', 'Wheelc...   \n",
       "\n",
       "                                          categories  \\\n",
       "0  Doctors, Traditional Chinese Medicine, Naturop...   \n",
       "1  Shipping Centers, Local Services, Notaries, Ma...   \n",
       "2  Department Stores, Shopping, Fashion, Home & G...   \n",
       "3  Restaurants, Food, Bubble Tea, Coffee & Tea, B...   \n",
       "4                          Brewpubs, Breweries, Food   \n",
       "\n",
       "                                               hours  \n",
       "0                                               None  \n",
       "1  {'Monday': '0:0-0:0', 'Tuesday': '8:0-18:30', ...  \n",
       "2  {'Monday': '8:0-22:0', 'Tuesday': '8:0-22:0', ...  \n",
       "3  {'Monday': '7:0-20:0', 'Tuesday': '7:0-20:0', ...  \n",
       "4  {'Wednesday': '14:0-22:0', 'Thursday': '16:0-2...  "
      ]
     },
     "execution_count": 12,
     "metadata": {},
     "output_type": "execute_result"
    }
   ],
   "source": [
    "data_yadb.head()"
   ]
  },
  {
   "cell_type": "code",
   "execution_count": 13,
   "id": "45bfca71",
   "metadata": {},
   "outputs": [
    {
     "data": {
      "text/plain": [
       "(131930, 2)"
      ]
     },
     "execution_count": 13,
     "metadata": {},
     "output_type": "execute_result"
    }
   ],
   "source": [
    "data_yadc = pd.read_json(ruta_yadc, lines=True)\n",
    "data_yadc.shape"
   ]
  },
  {
   "cell_type": "code",
   "execution_count": 14,
   "id": "7e06f97a",
   "metadata": {},
   "outputs": [
    {
     "data": {
      "text/html": [
       "<div>\n",
       "<style scoped>\n",
       "    .dataframe tbody tr th:only-of-type {\n",
       "        vertical-align: middle;\n",
       "    }\n",
       "\n",
       "    .dataframe tbody tr th {\n",
       "        vertical-align: top;\n",
       "    }\n",
       "\n",
       "    .dataframe thead th {\n",
       "        text-align: right;\n",
       "    }\n",
       "</style>\n",
       "<table border=\"1\" class=\"dataframe\">\n",
       "  <thead>\n",
       "    <tr style=\"text-align: right;\">\n",
       "      <th></th>\n",
       "      <th>business_id</th>\n",
       "      <th>date</th>\n",
       "    </tr>\n",
       "  </thead>\n",
       "  <tbody>\n",
       "    <tr>\n",
       "      <th>0</th>\n",
       "      <td>---kPU91CF4Lq2-WlRu9Lw</td>\n",
       "      <td>2020-03-13 21:10:56, 2020-06-02 22:18:06, 2020...</td>\n",
       "    </tr>\n",
       "    <tr>\n",
       "      <th>1</th>\n",
       "      <td>--0iUa4sNDFiZFrAdIWhZQ</td>\n",
       "      <td>2010-09-13 21:43:09, 2011-05-04 23:08:15, 2011...</td>\n",
       "    </tr>\n",
       "    <tr>\n",
       "      <th>2</th>\n",
       "      <td>--30_8IhuyMHbSOcNWd6DQ</td>\n",
       "      <td>2013-06-14 23:29:17, 2014-08-13 23:20:22</td>\n",
       "    </tr>\n",
       "    <tr>\n",
       "      <th>3</th>\n",
       "      <td>--7PUidqRWpRSpXebiyxTg</td>\n",
       "      <td>2011-02-15 17:12:00, 2011-07-28 02:46:10, 2012...</td>\n",
       "    </tr>\n",
       "    <tr>\n",
       "      <th>4</th>\n",
       "      <td>--7jw19RH9JKXgFohspgQw</td>\n",
       "      <td>2014-04-21 20:42:11, 2014-04-28 21:04:46, 2014...</td>\n",
       "    </tr>\n",
       "  </tbody>\n",
       "</table>\n",
       "</div>"
      ],
      "text/plain": [
       "              business_id                                               date\n",
       "0  ---kPU91CF4Lq2-WlRu9Lw  2020-03-13 21:10:56, 2020-06-02 22:18:06, 2020...\n",
       "1  --0iUa4sNDFiZFrAdIWhZQ  2010-09-13 21:43:09, 2011-05-04 23:08:15, 2011...\n",
       "2  --30_8IhuyMHbSOcNWd6DQ           2013-06-14 23:29:17, 2014-08-13 23:20:22\n",
       "3  --7PUidqRWpRSpXebiyxTg  2011-02-15 17:12:00, 2011-07-28 02:46:10, 2012...\n",
       "4  --7jw19RH9JKXgFohspgQw  2014-04-21 20:42:11, 2014-04-28 21:04:46, 2014..."
      ]
     },
     "execution_count": 14,
     "metadata": {},
     "output_type": "execute_result"
    }
   ],
   "source": [
    "data_yadc.head()"
   ]
  },
  {
   "cell_type": "code",
   "execution_count": null,
   "id": "014e21ce",
   "metadata": {},
   "outputs": [],
   "source": [
    "data_yadr = pd.read_json(ruta_yadr, lines=True)\n",
    "data_yadr.shape"
   ]
  },
  {
   "cell_type": "code",
   "execution_count": null,
   "id": "808ebec5",
   "metadata": {},
   "outputs": [],
   "source": [
    "data_yadr.head()"
   ]
  },
  {
   "cell_type": "code",
   "execution_count": 3,
   "id": "701d2619",
   "metadata": {},
   "outputs": [
    {
     "data": {
      "text/plain": [
       "(908915, 5)"
      ]
     },
     "execution_count": 3,
     "metadata": {},
     "output_type": "execute_result"
    }
   ],
   "source": [
    "data_yadt = pd.read_json(ruta_yadt, lines=True)\n",
    "data_yadt.shape"
   ]
  },
  {
   "cell_type": "code",
   "execution_count": 4,
   "id": "f4776749",
   "metadata": {},
   "outputs": [
    {
     "data": {
      "text/html": [
       "<div>\n",
       "<style scoped>\n",
       "    .dataframe tbody tr th:only-of-type {\n",
       "        vertical-align: middle;\n",
       "    }\n",
       "\n",
       "    .dataframe tbody tr th {\n",
       "        vertical-align: top;\n",
       "    }\n",
       "\n",
       "    .dataframe thead th {\n",
       "        text-align: right;\n",
       "    }\n",
       "</style>\n",
       "<table border=\"1\" class=\"dataframe\">\n",
       "  <thead>\n",
       "    <tr style=\"text-align: right;\">\n",
       "      <th></th>\n",
       "      <th>user_id</th>\n",
       "      <th>business_id</th>\n",
       "      <th>text</th>\n",
       "      <th>date</th>\n",
       "      <th>compliment_count</th>\n",
       "    </tr>\n",
       "  </thead>\n",
       "  <tbody>\n",
       "    <tr>\n",
       "      <th>0</th>\n",
       "      <td>AGNUgVwnZUey3gcPCJ76iw</td>\n",
       "      <td>3uLgwr0qeCNMjKenHJwPGQ</td>\n",
       "      <td>Avengers time with the ladies.</td>\n",
       "      <td>2012-05-18 02:17:21</td>\n",
       "      <td>0</td>\n",
       "    </tr>\n",
       "    <tr>\n",
       "      <th>1</th>\n",
       "      <td>NBN4MgHP9D3cw--SnauTkA</td>\n",
       "      <td>QoezRbYQncpRqyrLH6Iqjg</td>\n",
       "      <td>They have lots of good deserts and tasty cuban...</td>\n",
       "      <td>2013-02-05 18:35:10</td>\n",
       "      <td>0</td>\n",
       "    </tr>\n",
       "    <tr>\n",
       "      <th>2</th>\n",
       "      <td>-copOvldyKh1qr-vzkDEvw</td>\n",
       "      <td>MYoRNLb5chwjQe3c_k37Gg</td>\n",
       "      <td>It's open even when you think it isn't</td>\n",
       "      <td>2013-08-18 00:56:08</td>\n",
       "      <td>0</td>\n",
       "    </tr>\n",
       "    <tr>\n",
       "      <th>3</th>\n",
       "      <td>FjMQVZjSqY8syIO-53KFKw</td>\n",
       "      <td>hV-bABTK-glh5wj31ps_Jw</td>\n",
       "      <td>Very decent fried chicken</td>\n",
       "      <td>2017-06-27 23:05:38</td>\n",
       "      <td>0</td>\n",
       "    </tr>\n",
       "    <tr>\n",
       "      <th>4</th>\n",
       "      <td>ld0AperBXk1h6UbqmM80zw</td>\n",
       "      <td>_uN0OudeJ3Zl_tf6nxg5ww</td>\n",
       "      <td>Appetizers.. platter special for lunch</td>\n",
       "      <td>2012-10-06 19:43:09</td>\n",
       "      <td>0</td>\n",
       "    </tr>\n",
       "  </tbody>\n",
       "</table>\n",
       "</div>"
      ],
      "text/plain": [
       "                  user_id             business_id  \\\n",
       "0  AGNUgVwnZUey3gcPCJ76iw  3uLgwr0qeCNMjKenHJwPGQ   \n",
       "1  NBN4MgHP9D3cw--SnauTkA  QoezRbYQncpRqyrLH6Iqjg   \n",
       "2  -copOvldyKh1qr-vzkDEvw  MYoRNLb5chwjQe3c_k37Gg   \n",
       "3  FjMQVZjSqY8syIO-53KFKw  hV-bABTK-glh5wj31ps_Jw   \n",
       "4  ld0AperBXk1h6UbqmM80zw  _uN0OudeJ3Zl_tf6nxg5ww   \n",
       "\n",
       "                                                text                date  \\\n",
       "0                     Avengers time with the ladies. 2012-05-18 02:17:21   \n",
       "1  They have lots of good deserts and tasty cuban... 2013-02-05 18:35:10   \n",
       "2             It's open even when you think it isn't 2013-08-18 00:56:08   \n",
       "3                          Very decent fried chicken 2017-06-27 23:05:38   \n",
       "4             Appetizers.. platter special for lunch 2012-10-06 19:43:09   \n",
       "\n",
       "   compliment_count  \n",
       "0                 0  \n",
       "1                 0  \n",
       "2                 0  \n",
       "3                 0  \n",
       "4                 0  "
      ]
     },
     "execution_count": 4,
     "metadata": {},
     "output_type": "execute_result"
    }
   ],
   "source": [
    "data_yadt.head()"
   ]
  },
  {
   "cell_type": "code",
   "execution_count": null,
   "id": "6a291833",
   "metadata": {},
   "outputs": [],
   "source": [
    "data_yadu = pd.read_json(ruta_yadu, lines=True)\n",
    "data_yadu.shape"
   ]
  },
  {
   "cell_type": "code",
   "execution_count": null,
   "id": "090747a6",
   "metadata": {},
   "outputs": [],
   "source": [
    "data_yadu.head()"
   ]
  },
  {
   "cell_type": "code",
   "execution_count": 6,
   "id": "96cdca3d",
   "metadata": {},
   "outputs": [
    {
     "data": {
      "text/html": [
       "<div>\n",
       "<style scoped>\n",
       "    .dataframe tbody tr th:only-of-type {\n",
       "        vertical-align: middle;\n",
       "    }\n",
       "\n",
       "    .dataframe tbody tr th {\n",
       "        vertical-align: top;\n",
       "    }\n",
       "\n",
       "    .dataframe thead th {\n",
       "        text-align: right;\n",
       "    }\n",
       "</style>\n",
       "<table border=\"1\" class=\"dataframe\">\n",
       "  <thead>\n",
       "    <tr style=\"text-align: right;\">\n",
       "      <th></th>\n",
       "      <th>tweet_id</th>\n",
       "      <th>author_id</th>\n",
       "      <th>inbound</th>\n",
       "      <th>created_at</th>\n",
       "      <th>text</th>\n",
       "      <th>response_tweet_id</th>\n",
       "      <th>in_response_to_tweet_id</th>\n",
       "    </tr>\n",
       "  </thead>\n",
       "  <tbody>\n",
       "    <tr>\n",
       "      <th>0</th>\n",
       "      <td>1</td>\n",
       "      <td>sprintcare</td>\n",
       "      <td>False</td>\n",
       "      <td>Tue Oct 31 22:10:47 +0000 2017</td>\n",
       "      <td>@115712 I understand. I would like to assist y...</td>\n",
       "      <td>2</td>\n",
       "      <td>3.0</td>\n",
       "    </tr>\n",
       "    <tr>\n",
       "      <th>1</th>\n",
       "      <td>2</td>\n",
       "      <td>115712</td>\n",
       "      <td>True</td>\n",
       "      <td>Tue Oct 31 22:11:45 +0000 2017</td>\n",
       "      <td>@sprintcare and how do you propose we do that</td>\n",
       "      <td>NaN</td>\n",
       "      <td>1.0</td>\n",
       "    </tr>\n",
       "    <tr>\n",
       "      <th>2</th>\n",
       "      <td>3</td>\n",
       "      <td>115712</td>\n",
       "      <td>True</td>\n",
       "      <td>Tue Oct 31 22:08:27 +0000 2017</td>\n",
       "      <td>@sprintcare I have sent several private messag...</td>\n",
       "      <td>1</td>\n",
       "      <td>4.0</td>\n",
       "    </tr>\n",
       "    <tr>\n",
       "      <th>3</th>\n",
       "      <td>4</td>\n",
       "      <td>sprintcare</td>\n",
       "      <td>False</td>\n",
       "      <td>Tue Oct 31 21:54:49 +0000 2017</td>\n",
       "      <td>@115712 Please send us a Private Message so th...</td>\n",
       "      <td>3</td>\n",
       "      <td>5.0</td>\n",
       "    </tr>\n",
       "    <tr>\n",
       "      <th>4</th>\n",
       "      <td>5</td>\n",
       "      <td>115712</td>\n",
       "      <td>True</td>\n",
       "      <td>Tue Oct 31 21:49:35 +0000 2017</td>\n",
       "      <td>@sprintcare I did.</td>\n",
       "      <td>4</td>\n",
       "      <td>6.0</td>\n",
       "    </tr>\n",
       "  </tbody>\n",
       "</table>\n",
       "</div>"
      ],
      "text/plain": [
       "   tweet_id   author_id  inbound                      created_at  \\\n",
       "0         1  sprintcare    False  Tue Oct 31 22:10:47 +0000 2017   \n",
       "1         2      115712     True  Tue Oct 31 22:11:45 +0000 2017   \n",
       "2         3      115712     True  Tue Oct 31 22:08:27 +0000 2017   \n",
       "3         4  sprintcare    False  Tue Oct 31 21:54:49 +0000 2017   \n",
       "4         5      115712     True  Tue Oct 31 21:49:35 +0000 2017   \n",
       "\n",
       "                                                text response_tweet_id  \\\n",
       "0  @115712 I understand. I would like to assist y...                 2   \n",
       "1      @sprintcare and how do you propose we do that               NaN   \n",
       "2  @sprintcare I have sent several private messag...                 1   \n",
       "3  @115712 Please send us a Private Message so th...                 3   \n",
       "4                                 @sprintcare I did.                 4   \n",
       "\n",
       "   in_response_to_tweet_id  \n",
       "0                      3.0  \n",
       "1                      1.0  \n",
       "2                      4.0  \n",
       "3                      5.0  \n",
       "4                      6.0  "
      ]
     },
     "execution_count": 6,
     "metadata": {},
     "output_type": "execute_result"
    }
   ],
   "source": [
    "data_cst_twcs.head()"
   ]
  },
  {
   "cell_type": "code",
   "execution_count": 5,
   "id": "1a94aa69",
   "metadata": {},
   "outputs": [
    {
     "data": {
      "text/plain": [
       "Index(['tweet_id', 'author_id', 'inbound', 'created_at', 'text',\n",
       "       'response_tweet_id', 'in_response_to_tweet_id'],\n",
       "      dtype='object')"
      ]
     },
     "execution_count": 5,
     "metadata": {},
     "output_type": "execute_result"
    }
   ],
   "source": [
    "data_cst_twcs.columns"
   ]
  },
  {
   "cell_type": "code",
   "execution_count": 11,
   "id": "0cac36b8",
   "metadata": {},
   "outputs": [
    {
     "data": {
      "text/plain": [
       "dtype('bool')"
      ]
     },
     "execution_count": 11,
     "metadata": {},
     "output_type": "execute_result"
    }
   ],
   "source": [
    "data_cst_twcs['inbound'].dtypes"
   ]
  },
  {
   "cell_type": "code",
   "execution_count": 10,
   "id": "79792c4e",
   "metadata": {},
   "outputs": [
    {
     "data": {
      "text/plain": [
       "inbound\n",
       "True     1537843\n",
       "False    1273931\n",
       "Name: count, dtype: int64"
      ]
     },
     "execution_count": 10,
     "metadata": {},
     "output_type": "execute_result"
    }
   ],
   "source": [
    "data_cst_twcs['inbound'].value_counts(dropna=False)"
   ]
  },
  {
   "cell_type": "code",
   "execution_count": 9,
   "id": "e59710d9",
   "metadata": {},
   "outputs": [
    {
     "name": "stdout",
     "output_type": "stream",
     "text": [
      "Shape:  (2811774, 7)\n",
      "ID tweet Numeros Unicos:  2811774\n",
      "ID author Numeros Unicos:  702777\n",
      "ID response tweet Numeros Unicos:  1771145\n",
      "ID response in tweet Numeros Unicos:  1774822\n"
     ]
    }
   ],
   "source": [
    "print('Shape: ', data_cst_twcs.shape)\n",
    "print('ID tweet Numeros Unicos: ', data_cst_twcs['tweet_id'].nunique())\n",
    "print('ID author Numeros Unicos: ', data_cst_twcs['author_id'].nunique())\n",
    "print('ID response tweet Numeros Unicos: ', data_cst_twcs['response_tweet_id'].nunique())\n",
    "print('ID response in tweet Numeros Unicos: ', data_cst_twcs['in_response_to_tweet_id'].nunique())"
   ]
  },
  {
   "cell_type": "code",
   "execution_count": 5,
   "id": "bb44d869",
   "metadata": {},
   "outputs": [],
   "source": [
    "data_cst_twcs['inbound'] = data_cst_twcs['inbound'].astype('int')"
   ]
  },
  {
   "cell_type": "code",
   "execution_count": 6,
   "id": "5edd35f0",
   "metadata": {},
   "outputs": [
    {
     "name": "stderr",
     "output_type": "stream",
     "text": [
      "[nltk_data] Downloading package stopwords to /home/alejo/nltk_data...\n",
      "[nltk_data]   Package stopwords is already up-to-date!\n"
     ]
    },
    {
     "data": {
      "text/plain": [
       "True"
      ]
     },
     "execution_count": 6,
     "metadata": {},
     "output_type": "execute_result"
    }
   ],
   "source": [
    "nltk.download('stopwords')"
   ]
  },
  {
   "cell_type": "code",
   "execution_count": 7,
   "id": "2d9eb46d",
   "metadata": {},
   "outputs": [],
   "source": [
    "english_stopwords = stopwords.words('english')"
   ]
  },
  {
   "cell_type": "code",
   "execution_count": 20,
   "id": "97c9291c",
   "metadata": {},
   "outputs": [],
   "source": [
    "# Preprocesamiento de texto\n",
    "def remove_stopwords(text):\n",
    "    stop_words = set(stopwords.words('english'))\n",
    "    tokens = word_tokenize(text, language='english')\n",
    "    filtered_text = ' '.join([word for word in tokens if word not in stop_words])\n",
    "    return filtered_text\n",
    "\n",
    "def preprocess_text(text):\n",
    "    # Convertir a minúsculas\n",
    "    text = text.lower()\n",
    "    # Eliminar tildes\n",
    "    text = ''.join(\n",
    "        c for c in unicodedata.normalize('NFD', text) if unicodedata.category(c) != 'Mn'\n",
    "    )\n",
    "    # Eliminar signos de puntuación y caracteres especiales\n",
    "    text = re.sub(r'[^a-zñü\\s]', '', text)\n",
    "    # Tokenización básica\n",
    "    tokens = text.split()\n",
    "    return tokens"
   ]
  },
  {
   "cell_type": "code",
   "execution_count": 21,
   "id": "378943dc",
   "metadata": {},
   "outputs": [
    {
     "data": {
      "text/plain": [
       "0    [i, understand, i, would, like, to, assist, yo...\n",
       "1    [sprintcare, and, how, do, you, propose, we, d...\n",
       "2    [sprintcare, i, have, sent, several, private, ...\n",
       "3    [please, send, us, a, private, message, so, th...\n",
       "4                                 [sprintcare, i, did]\n",
       "Name: text_clean, dtype: object"
      ]
     },
     "execution_count": 21,
     "metadata": {},
     "output_type": "execute_result"
    }
   ],
   "source": [
    "data_cst_twcs[\"text_clean\"] = data_cst_twcs[\"text\"].apply(preprocess_text)\n",
    "data_cst_twcs[\"text_clean\"].head()"
   ]
  },
  {
   "cell_type": "code",
   "execution_count": 8,
   "id": "b1c478ba",
   "metadata": {},
   "outputs": [
    {
     "name": "stdout",
     "output_type": "stream",
     "text": [
      "X_train:  (1574593,)\n",
      "X_valid:  (674826,)\n",
      "X_test:  (562355,)\n",
      "y_train:  (1574593,)\n",
      "y_valid:  (674826,)\n",
      "y_test:  (562355,)\n"
     ]
    }
   ],
   "source": [
    "X_train, X_test, y_train, y_test = train_test_split(data_cst_twcs['text'], data_cst_twcs['inbound'], test_size=0.2, stratify=data_cst_twcs['inbound'], random_state=42)\n",
    "X_train, X_valid, y_train, y_valid = train_test_split(X_train, y_train, test_size=0.3, stratify=y_train, random_state=42)\n",
    "print('X_train: ', X_train.shape)\n",
    "print('X_valid: ', X_valid.shape)\n",
    "print('X_test: ', X_test.shape)\n",
    "print('y_train: ', y_train.shape)\n",
    "print('y_valid: ', y_valid.shape)\n",
    "print('y_test: ', y_test.shape)"
   ]
  },
  {
   "cell_type": "code",
   "execution_count": 9,
   "id": "0cf2cf58",
   "metadata": {},
   "outputs": [],
   "source": [
    "# Vectorizar el texto con TF-IDF\n",
    "vectorizer = TfidfVectorizer(stop_words=english_stopwords, max_features=100, lowercase=True, token_pattern=r'\\b\\w+\\b')\n",
    "\n",
    "X_train = vectorizer.fit_transform(X_train)\n",
    "y_train = y_train"
   ]
  },
  {
   "cell_type": "code",
   "execution_count": 51,
   "id": "57501ea8",
   "metadata": {},
   "outputs": [
    {
     "name": "stdout",
     "output_type": "stream",
     "text": [
      "<class 'scipy.sparse._csr.csr_matrix'>\n",
      "<class 'pandas.core.series.Series'>\n"
     ]
    }
   ],
   "source": [
    "print(type(X_train))\n",
    "print(type(y_train))"
   ]
  },
  {
   "cell_type": "code",
   "execution_count": 52,
   "id": "286b9331",
   "metadata": {},
   "outputs": [
    {
     "name": "stdout",
     "output_type": "stream",
     "text": [
      "object\n"
     ]
    }
   ],
   "source": [
    "print(X_test.dtypes)"
   ]
  },
  {
   "cell_type": "code",
   "execution_count": 10,
   "id": "243c3524",
   "metadata": {},
   "outputs": [],
   "source": [
    "X_test = vectorizer.transform(X_test)\n",
    "X_valid = vectorizer.transform(X_valid)"
   ]
  },
  {
   "cell_type": "code",
   "execution_count": 11,
   "id": "70e41a55",
   "metadata": {},
   "outputs": [
    {
     "name": "stdout",
     "output_type": "stream",
     "text": [
      "0:\tlearn: 0.6313015\ttotal: 462ms\tremaining: 3m 50s\n",
      "100:\tlearn: 0.3638038\ttotal: 22.4s\tremaining: 1m 28s\n",
      "200:\tlearn: 0.3454089\ttotal: 40.3s\tremaining: 60s\n",
      "300:\tlearn: 0.3375362\ttotal: 1m\tremaining: 39.7s\n",
      "400:\tlearn: 0.3331273\ttotal: 1m 24s\tremaining: 20.9s\n",
      "499:\tlearn: 0.3300415\ttotal: 1m 42s\tremaining: 0us\n"
     ]
    },
    {
     "data": {
      "text/plain": [
       "<catboost.core.CatBoostClassifier at 0x7f49c0328980>"
      ]
     },
     "execution_count": 11,
     "metadata": {},
     "output_type": "execute_result"
    }
   ],
   "source": [
    "model = CatBoostClassifier(iterations=500, depth=6, learning_rate=0.1, verbose=100)\n",
    "model.fit(X_train, y_train)"
   ]
  },
  {
   "cell_type": "code",
   "execution_count": 12,
   "id": "38583fd8",
   "metadata": {},
   "outputs": [
    {
     "data": {
      "text/plain": [
       "array([1, 1, 0, ..., 1, 1, 0], shape=(562355,))"
      ]
     },
     "execution_count": 12,
     "metadata": {},
     "output_type": "execute_result"
    }
   ],
   "source": [
    "model.predict(X_test)"
   ]
  },
  {
   "cell_type": "code",
   "execution_count": 13,
   "id": "19f35607",
   "metadata": {},
   "outputs": [
    {
     "data": {
      "text/plain": [
       "array([0.71495755, 0.99637055, 0.05797275, ..., 0.78029494, 0.78876258,\n",
       "       0.03460762], shape=(562355,))"
      ]
     },
     "execution_count": 13,
     "metadata": {},
     "output_type": "execute_result"
    }
   ],
   "source": [
    "# Generar predicciones de probabilidad\n",
    "y_probs = model.predict_proba(X_test)[:, 1]  # Si es un clasificador binario\n",
    "y_probs"
   ]
  },
  {
   "cell_type": "code",
   "execution_count": 14,
   "id": "5d0346db",
   "metadata": {},
   "outputs": [],
   "source": [
    "# Definir los thresholds a probar\n",
    "thresholds = np.arange(0.0, 1.01, 0.01)\n",
    "\n",
    "# Crear arrays para almacenar las métricas\n",
    "precision_scores = []\n",
    "recall_scores = []\n",
    "f1_scores = []\n",
    "accuracy_scores = []\n",
    "roc_auc_scores = []\n",
    "roc_pr_auc_score = []\n",
    "lift_scores = []\n",
    "\n",
    "# Tasa global de positivos (P(Y=1))\n",
    "global_rate = np.mean(y_test)\n",
    "\n",
    "# Evaluar las métricas para cada threshold\n",
    "for threshold in thresholds:\n",
    "    y_pred = (y_probs >= threshold).astype(int)\n",
    "    \n",
    "    precision_scores.append(precision_score(y_test, y_pred, zero_division=0))\n",
    "    recall_scores.append(recall_score(y_test, y_pred, zero_division=0))\n",
    "    f1_scores.append(f1_score(y_test, y_pred, zero_division=0))\n",
    "    accuracy_scores.append(accuracy_score(y_test, y_pred))\n",
    "    roc_auc_scores.append(roc_auc_score(y_test, y_probs))  # Se usa y_probs para ROC\n",
    "    roc_pr_auc_score.append(average_precision_score(y_test, y_probs))  # Se usa y_probs"
   ]
  },
  {
   "cell_type": "code",
   "execution_count": 15,
   "id": "3e2397fe",
   "metadata": {},
   "outputs": [
    {
     "name": "stdout",
     "output_type": "stream",
     "text": [
      "Mejor threshold: 0.45\n",
      "Precision: 0.8193782566760075\n",
      "Recall: 0.9335726292311644\n",
      "F1-score: 0.8727558992892129\n",
      "Accuracy: 0.8511136203999253\n",
      "ROC AUC: 0.9237128752847031\n",
      "ROC PR AUC: 0.9292354639955308\n"
     ]
    }
   ],
   "source": [
    "# Encontrar el mejor threshold según una métrica, por ejemplo, F1-score\n",
    "best_threshold_index = np.argmax(f1_scores) #50 #37\n",
    "best_threshold = thresholds[best_threshold_index]\n",
    "\n",
    "print(f\"Mejor threshold: {best_threshold}\")\n",
    "print(f\"Precision: {precision_scores[best_threshold_index]}\")\n",
    "print(f\"Recall: {recall_scores[best_threshold_index]}\")\n",
    "print(f\"F1-score: {f1_scores[best_threshold_index]}\")\n",
    "print(f\"Accuracy: {accuracy_scores[best_threshold_index]}\")\n",
    "print(f\"ROC AUC: {roc_auc_scores[best_threshold_index]}\")\n",
    "print(f\"ROC PR AUC: {roc_pr_auc_score[best_threshold_index]}\")"
   ]
  },
  {
   "cell_type": "code",
   "execution_count": 16,
   "id": "29fba33a",
   "metadata": {},
   "outputs": [
    {
     "data": {
      "image/png": "[encoded data removed]",
      "text/plain": [
       "<Figure size 640x480 with 2 Axes>"
      ]
     },
     "metadata": {},
     "output_type": "display_data"
    },
    {
     "name": "stdout",
     "output_type": "stream",
     "text": [
      "          Predicted 0  Predicted 1\n",
      "Actual 0       196137        58649\n",
      "Actual 1        24563       283006\n"
     ]
    }
   ],
   "source": [
    "y_pred = model.predict(X_test).astype(int)\n",
    "predictions = [round(value) for value in y_pred]\n",
    "\n",
    "cm = confusion_matrix(y_test, predictions)\n",
    "cm_display = ConfusionMatrixDisplay(confusion_matrix = cm, display_labels = [0, 1])\n",
    "cm_display.plot()\n",
    "plt.show()\n",
    "\n",
    "# Crea un DataFrame a partir de la matriz de confusión\n",
    "cm_table = pd.DataFrame(cm, index=['Actual 0', 'Actual 1'], columns=['Predicted 0', 'Predicted 1'])\n",
    "\n",
    "# Muestra la matriz en forma de tabla\n",
    "print(cm_table)"
   ]
  },
  {
   "cell_type": "code",
   "execution_count": 17,
   "id": "944890e6",
   "metadata": {},
   "outputs": [
    {
     "name": "stdout",
     "output_type": "stream",
     "text": [
      "Accuracy: 85.20%\n"
     ]
    }
   ],
   "source": [
    "# evaluate predictions\n",
    "accuracy = accuracy_score(y_test, predictions)\n",
    "print(\"Accuracy: %.2f%%\" % (accuracy * 100.0))"
   ]
  },
  {
   "cell_type": "code",
   "execution_count": 18,
   "id": "a938da78",
   "metadata": {},
   "outputs": [
    {
     "name": "stdout",
     "output_type": "stream",
     "text": [
      "Precision: 82.83%\n"
     ]
    }
   ],
   "source": [
    "presicion = precision_score(y_test, predictions)\n",
    "print(\"Precision: %.2f%%\" % (presicion * 100.0))"
   ]
  },
  {
   "cell_type": "code",
   "execution_count": 19,
   "id": "8fa7dd0d",
   "metadata": {},
   "outputs": [
    {
     "name": "stdout",
     "output_type": "stream",
     "text": [
      "Recall: 92.01%\n"
     ]
    }
   ],
   "source": [
    "recall = recall_score(y_test, predictions)\n",
    "\n",
    "#print(\"Recall: \", recall)\n",
    "print(\"Recall: %.2f%%\" % (recall * 100.0))"
   ]
  },
  {
   "cell_type": "code",
   "execution_count": 20,
   "id": "d29a547a",
   "metadata": {},
   "outputs": [
    {
     "name": "stdout",
     "output_type": "stream",
     "text": [
      "F1-Score: 87.18%\n"
     ]
    }
   ],
   "source": [
    "f1 = f1_score(y_test, predictions)\n",
    "\n",
    "#print(\"F1-Score: \", f1)\n",
    "print(\"F1-Score: %.2f%%\" % (f1 * 100.0))"
   ]
  },
  {
   "cell_type": "code",
   "execution_count": 21,
   "id": "8343f457",
   "metadata": {},
   "outputs": [
    {
     "data": {
      "image/png": "[encoded data removed]",
      "text/plain": [
       "<Figure size 640x480 with 1 Axes>"
      ]
     },
     "metadata": {},
     "output_type": "display_data"
    }
   ],
   "source": [
    "fpr, tpr, thresholds = roc_curve(y_test, predictions) #precision_recall_curve\n",
    "roc_auc = auc(fpr, tpr)\n",
    "\n",
    "plt.plot(fpr, tpr, label='ROC curve (area = %0.2f)' % roc_auc)\n",
    "plt.plot([0, 1], [0, 1], 'k--')\n",
    "plt.xlim([0.0, 1.0])\n",
    "plt.ylim([0.0, 1.05])\n",
    "plt.xlabel('False Positive Rate')\n",
    "plt.ylabel('True Positive Rate')\n",
    "plt.title('Receiver operating characteristic')\n",
    "plt.legend(loc=\"lower right\")\n",
    "plt.show()"
   ]
  },
  {
   "cell_type": "code",
   "execution_count": 22,
   "id": "573415fe",
   "metadata": {},
   "outputs": [
    {
     "data": {
      "image/png": "[encoded data removed]",
      "text/plain": [
       "<Figure size 800x600 with 1 Axes>"
      ]
     },
     "metadata": {},
     "output_type": "display_data"
    }
   ],
   "source": [
    "# 1. Obtener Precision, Recall y Thresholds\n",
    "precision, recall, thresholds = precision_recall_curve(y_test, predictions)\n",
    "\n",
    "# 2. Calcular el AUC-PR\n",
    "auc_pr = average_precision_score(y_test, predictions)\n",
    "\n",
    "# 3. Graficar la Curva Precision-Recall\n",
    "plt.figure(figsize=(8, 6))\n",
    "plt.plot(recall, precision, color='b', label=f'AUC-PR = {auc_pr:.2f}')\n",
    "plt.fill_between(recall, precision, alpha=0.2, color='b')\n",
    "\n",
    "# 4. Configurar el gráfico\n",
    "plt.xlabel('Recall')\n",
    "plt.ylabel('Precision')\n",
    "plt.title('Curva Precision-Recall')\n",
    "plt.legend(loc='lower left')\n",
    "plt.grid(True)\n",
    "plt.show()"
   ]
  },
  {
   "cell_type": "code",
   "execution_count": null,
   "id": "3d2a70ea",
   "metadata": {},
   "outputs": [],
   "source": [
    "# Graficar las métricas\n",
    "plt.figure(figsize=(10, 6))\n",
    "plt.plot(thresholds, precision_scores, label='Precision', marker='o')\n",
    "plt.plot(thresholds, recall_scores, label='Recall', marker='o')\n",
    "plt.plot(thresholds, f1_scores, label='F1-score', marker='o')\n",
    "plt.plot(thresholds, accuracy_scores, label='Accuracy', marker='o')\n",
    "plt.plot(thresholds, roc_auc_scores, label='ROC AUC', marker='o')\n",
    "plt.plot(thresholds, roc_pr_auc_score, label='ROC PR AUC', marker='o')\n",
    "\n",
    "\n",
    "# Añadir etiquetas y leyenda\n",
    "plt.xlabel('Threshold')\n",
    "plt.ylabel('Metric Score')\n",
    "plt.title('Metrics vs Threshold')\n",
    "plt.legend()\n",
    "plt.grid(True)\n",
    "plt.show()"
   ]
  },
  {
   "cell_type": "code",
   "execution_count": 35,
   "id": "334ada37",
   "metadata": {},
   "outputs": [],
   "source": [
    "#mlflow.create_experiment(\"experimento_prueba\")"
   ]
  },
  {
   "cell_type": "code",
   "execution_count": 37,
   "id": "7337b1a8",
   "metadata": {},
   "outputs": [
    {
     "name": "stdout",
     "output_type": "stream",
     "text": [
      "Experimento ya existe\n"
     ]
    }
   ],
   "source": [
    "try:\n",
    "    mlflow.create_experiment(\"experimento_prueba\")\n",
    "    print(\"Experimento creado\")\n",
    "except:\n",
    "    mlflow.set_experiment(\"experimento_prueba\")\n",
    "    print(\"Experimento ya existe\")\n"
   ]
  },
  {
   "cell_type": "code",
   "execution_count": 25,
   "id": "15e24a11",
   "metadata": {},
   "outputs": [],
   "source": [
    "X_train, X_test, y_train, y_test = train_test_split(data_cst_twcs['text'], data_cst_twcs['inbound'], test_size=0.2, stratify=data_cst_twcs['inbound'], random_state=42)\n",
    "X_train, X_valid, y_train, y_valid = train_test_split(X_train, y_train, test_size=0.3, stratify=y_train, random_state=42)"
   ]
  },
  {
   "cell_type": "code",
   "execution_count": 41,
   "id": "e8652a0c",
   "metadata": {},
   "outputs": [
    {
     "name": "stdout",
     "output_type": "stream",
     "text": [
      "0:\tlearn: 0.6313015\ttotal: 275ms\tremaining: 2m 17s\n",
      "100:\tlearn: 0.3638038\ttotal: 18.4s\tremaining: 1m 12s\n",
      "200:\tlearn: 0.3454089\ttotal: 36.5s\tremaining: 54.3s\n",
      "300:\tlearn: 0.3375362\ttotal: 54.9s\tremaining: 36.3s\n",
      "400:\tlearn: 0.3331273\ttotal: 1m 16s\tremaining: 18.8s\n",
      "499:\tlearn: 0.3300415\ttotal: 1m 32s\tremaining: 0us\n"
     ]
    },
    {
     "name": "stderr",
     "output_type": "stream",
     "text": [
      "Successfully registered model 'modelo_catboost_prueba'.\n",
      "Created version '1' of model 'modelo_catboost_prueba'.\n"
     ]
    },
    {
     "name": "stdout",
     "output_type": "stream",
     "text": [
      "Modelo registrado con precisión: 0.8520294120262112\n"
     ]
    }
   ],
   "source": [
    "with mlflow.start_run():\n",
    "    # Define y entrena el pipeline\n",
    "    catboost_params = {\n",
    "        \"iterations\": 500,\n",
    "        \"depth\": 6,\n",
    "        \"learning_rate\": 0.1,\n",
    "        \"verbose\": 100\n",
    "    }\n",
    "\n",
    "    pipeline = Pipeline([\n",
    "        ('tfidf', TfidfVectorizer(stop_words=english_stopwords, max_features=100, lowercase=True, token_pattern=r'\\b\\w+\\b')),\n",
    "        ('catboost', CatBoostClassifier(**catboost_params))\n",
    "    ])\n",
    "    pipeline.fit(X_train, y_train)\n",
    "\n",
    "    # Inferir signature para input/output\n",
    "    signature = infer_signature(X_train, y_train)\n",
    "\n",
    "    # Registra el modelo con un ejemplo de entrada\n",
    "    input_example = np.array(X_test[:1])  # Toma una muestra como ejemplo de entrada\n",
    "    mlflow.sklearn.log_model(pipeline, \"modelo_catboost\", input_example=input_example, signature=signature, registered_model_name=\"modelo_catboost_prueba\")\n",
    "\n",
    "    # Registra las métricas\n",
    "    accuracy = pipeline.score(X_test, y_test)\n",
    "    mlflow.log_metric(\"accuracy\", accuracy)\n",
    "\n",
    "    # Registra los hiperparámetros del modelo\n",
    "    mlflow.log_params(catboost_params)\n",
    "\n",
    "    print(f\"Modelo registrado con precisión: {accuracy}\")"
   ]
  },
  {
   "cell_type": "code",
   "execution_count": 42,
   "id": "29fa835b",
   "metadata": {},
   "outputs": [
    {
     "name": "stdout",
     "output_type": "stream",
     "text": [
      "modelo_catboost_prueba\n"
     ]
    }
   ],
   "source": [
    "client = mlflow.tracking.MlflowClient()\n",
    "models = client.search_registered_models()\n",
    "for model in models:\n",
    "    print(model.name)"
   ]
  },
  {
   "cell_type": "code",
   "execution_count": 48,
   "id": "549a9f0a",
   "metadata": {},
   "outputs": [
    {
     "name": "stdout",
     "output_type": "stream",
     "text": [
      "0:\tlearn: 0.6575283\ttotal: 228ms\tremaining: 2m 16s\n",
      "100:\tlearn: 0.3297735\ttotal: 17.5s\tremaining: 1m 26s\n",
      "200:\tlearn: 0.2933245\ttotal: 34.5s\tremaining: 1m 8s\n",
      "300:\tlearn: 0.2753872\ttotal: 51.7s\tremaining: 51.3s\n",
      "400:\tlearn: 0.2633034\ttotal: 1m 10s\tremaining: 34.8s\n",
      "500:\tlearn: 0.2555405\ttotal: 1m 26s\tremaining: 17.1s\n",
      "599:\tlearn: 0.2497838\ttotal: 1m 43s\tremaining: 0us\n"
     ]
    },
    {
     "name": "stderr",
     "output_type": "stream",
     "text": [
      "Successfully registered model 'modelo_catboost_prueba_v2'.\n",
      "Created version '1' of model 'modelo_catboost_prueba_v2'.\n"
     ]
    },
    {
     "name": "stdout",
     "output_type": "stream",
     "text": [
      "Nuevo modelo registrado con precisión: 0.8911956563617881\n"
     ]
    },
    {
     "name": "stderr",
     "output_type": "stream",
     "text": [
      "Registered model 'modelo_catboost_prueba' already exists. Creating a new version of this model...\n",
      "Created version '3' of model 'modelo_catboost_prueba'.\n"
     ]
    }
   ],
   "source": [
    "with mlflow.start_run():\n",
    "    # Define nuevo modelo\n",
    "    new_catboost_params = {\n",
    "        \"iterations\": 600,  # Cambios en hiperparámetros\n",
    "        \"depth\": 8,\n",
    "        \"learning_rate\": 0.05,\n",
    "        \"verbose\": 100\n",
    "    }\n",
    "\n",
    "    new_pipeline = Pipeline([\n",
    "        ('tfidf', TfidfVectorizer(stop_words=english_stopwords, max_features=200, lowercase=True, token_pattern=r'\\b\\w+\\b')),\n",
    "        ('catboost', CatBoostClassifier(**new_catboost_params))\n",
    "    ])\n",
    "    new_pipeline.fit(X_valid, y_valid)\n",
    "\n",
    "    # Inferir signature para input/output\n",
    "    signature = infer_signature(X_valid, y_valid)\n",
    "\n",
    "    # Registra el modelo con un ejemplo de entrada\n",
    "    input_example = np.array(X_valid[:1])  # Toma una muestra como ejemplo de entrada\n",
    "\n",
    "    # Registra el modelo en MLflow\n",
    "    model_uri = \"runs:/\" + mlflow.active_run().info.run_id + \"/modelo_catboost_prueba\"\n",
    "    mlflow.sklearn.log_model(new_pipeline, \"modelo_catboost_prueba\", input_example=input_example, signature=signature, registered_model_name=\"modelo_catboost_prueba_v2\")\n",
    "\n",
    "    # Registra los hiperparámetros y métricas\n",
    "    accuracy = new_pipeline.score(X_valid, y_valid)\n",
    "    mlflow.log_metric(\"accuracy\", accuracy)\n",
    "    mlflow.log_params(new_catboost_params)\n",
    "\n",
    "    # Registra el modelo en el Model Registry\n",
    "    mlflow.register_model(model_uri=model_uri, name=\"modelo_catboost_prueba\")\n",
    "\n",
    "    print(f\"Nuevo modelo registrado con precisión: {accuracy}\")"
   ]
  },
  {
   "cell_type": "code",
   "execution_count": 49,
   "id": "547df6c4",
   "metadata": {},
   "outputs": [
    {
     "name": "stdout",
     "output_type": "stream",
     "text": [
      "Version: 3, Stage: None\n"
     ]
    }
   ],
   "source": [
    "for model in client.get_registered_model(\"modelo_catboost_prueba\").latest_versions:\n",
    "    print(f\"Version: {model.version}, Stage: {model.current_stage}\")"
   ]
  },
  {
   "cell_type": "code",
   "execution_count": null,
   "id": "1398e70d",
   "metadata": {},
   "outputs": [
    {
     "ename": "AttributeError",
     "evalue": "'ModelVersion' object has no attribute 'metrics'",
     "output_type": "error",
     "traceback": [
      "\u001b[31m---------------------------------------------------------------------------\u001b[39m",
      "\u001b[31mAttributeError\u001b[39m                            Traceback (most recent call last)",
      "\u001b[36mCell\u001b[39m\u001b[36m \u001b[39m\u001b[32mIn[50]\u001b[39m\u001b[32m, line 3\u001b[39m\n\u001b[32m      1\u001b[39m client = mlflow.tracking.MlflowClient()\n\u001b[32m      2\u001b[39m \u001b[38;5;28;01mfor\u001b[39;00m model \u001b[38;5;129;01min\u001b[39;00m client.get_registered_model(\u001b[33m\"\u001b[39m\u001b[33mmodelo_catboost_prueba\u001b[39m\u001b[33m\"\u001b[39m).latest_versions:\n\u001b[32m----> \u001b[39m\u001b[32m3\u001b[39m     \u001b[38;5;28mprint\u001b[39m(\u001b[33mf\u001b[39m\u001b[33m\"\u001b[39m\u001b[33mVersión: \u001b[39m\u001b[38;5;132;01m{\u001b[39;00mmodel.version\u001b[38;5;132;01m}\u001b[39;00m\u001b[33m, Etapa: \u001b[39m\u001b[38;5;132;01m{\u001b[39;00mmodel.current_stage\u001b[38;5;132;01m}\u001b[39;00m\u001b[33m, Accuracy: \u001b[39m\u001b[38;5;132;01m{\u001b[39;00m\u001b[43mmodel\u001b[49m\u001b[43m.\u001b[49m\u001b[43mmetrics\u001b[49m.get(\u001b[33m'\u001b[39m\u001b[33maccuracy\u001b[39m\u001b[33m'\u001b[39m)\u001b[38;5;132;01m}\u001b[39;00m\u001b[33m\"\u001b[39m)\n",
      "\u001b[31mAttributeError\u001b[39m: 'ModelVersion' object has no attribute 'metrics'"
     ]
    },
    {
     "ename": "",
     "evalue": "",
     "output_type": "error",
     "traceback": [
      "\u001b[1;31mThe Kernel crashed while executing code in the current cell or a previous cell. \n",
      "\u001b[1;31mPlease review the code in the cell(s) to identify a possible cause of the failure. \n",
      "\u001b[1;31mClick <a href='https://aka.ms/vscodeJupyterKernelCrash'>here</a> for more info. \n",
      "\u001b[1;31mView Jupyter <a href='command:jupyter.viewOutput'>log</a> for further details."
     ]
    }
   ],
   "source": [
    "client = mlflow.tracking.MlflowClient()\n",
    "for model in client.get_registered_model(\"modelo_catboost_prueba\").latest_versions:\n",
    "    print(f\"Versión: {model.version}, Etapa: {model.current_stage}, Accuracy: {model.metrics.get('accuracy')}\")"
   ]
  },
  {
   "cell_type": "code",
   "execution_count": 45,
   "id": "821174ac",
   "metadata": {},
   "outputs": [
    {
     "ename": "MlflowException",
     "evalue": "No versions of model with name 'modelo_catboost_prueba' and stage 'Production' found",
     "output_type": "error",
     "traceback": [
      "\u001b[31m---------------------------------------------------------------------------\u001b[39m",
      "\u001b[31mMlflowException\u001b[39m                           Traceback (most recent call last)",
      "\u001b[36mCell\u001b[39m\u001b[36m \u001b[39m\u001b[32mIn[45]\u001b[39m\u001b[32m, line 1\u001b[39m\n\u001b[32m----> \u001b[39m\u001b[32m1\u001b[39m champion_model = \u001b[43mmlflow\u001b[49m\u001b[43m.\u001b[49m\u001b[43msklearn\u001b[49m\u001b[43m.\u001b[49m\u001b[43mload_model\u001b[49m\u001b[43m(\u001b[49m\u001b[33;43m\"\u001b[39;49m\u001b[33;43mmodels:/modelo_catboost_prueba/Production\u001b[39;49m\u001b[33;43m\"\u001b[39;49m\u001b[43m)\u001b[49m\n\u001b[32m      2\u001b[39m champion_model.predict(X_test)\n",
      "\u001b[36mFile \u001b[39m\u001b[32m~/proyectos/MLE_Nequi/.venv/lib/python3.12/site-packages/mlflow/sklearn/__init__.py:633\u001b[39m, in \u001b[36mload_model\u001b[39m\u001b[34m(model_uri, dst_path)\u001b[39m\n\u001b[32m    598\u001b[39m \u001b[38;5;28;01mdef\u001b[39;00m\u001b[38;5;250m \u001b[39m\u001b[34mload_model\u001b[39m(model_uri, dst_path=\u001b[38;5;28;01mNone\u001b[39;00m):\n\u001b[32m    599\u001b[39m \u001b[38;5;250m    \u001b[39m\u001b[33;03m\"\"\"\u001b[39;00m\n\u001b[32m    600\u001b[39m \u001b[33;03m    Load a scikit-learn model from a local file or a run.\u001b[39;00m\n\u001b[32m    601\u001b[39m \n\u001b[32m   (...)\u001b[39m\u001b[32m    631\u001b[39m \u001b[33;03m        predictions = sk_model.predict(pandas_df)\u001b[39;00m\n\u001b[32m    632\u001b[39m \u001b[33;03m    \"\"\"\u001b[39;00m\n\u001b[32m--> \u001b[39m\u001b[32m633\u001b[39m     local_model_path = \u001b[43m_download_artifact_from_uri\u001b[49m\u001b[43m(\u001b[49m\u001b[43martifact_uri\u001b[49m\u001b[43m=\u001b[49m\u001b[43mmodel_uri\u001b[49m\u001b[43m,\u001b[49m\u001b[43m \u001b[49m\u001b[43moutput_path\u001b[49m\u001b[43m=\u001b[49m\u001b[43mdst_path\u001b[49m\u001b[43m)\u001b[49m\n\u001b[32m    634\u001b[39m     flavor_conf = _get_flavor_configuration(model_path=local_model_path, flavor_name=FLAVOR_NAME)\n\u001b[32m    635\u001b[39m     _add_code_from_conf_to_system_path(local_model_path, flavor_conf)\n",
      "\u001b[36mFile \u001b[39m\u001b[32m~/proyectos/MLE_Nequi/.venv/lib/python3.12/site-packages/mlflow/tracking/artifact_utils.py:108\u001b[39m, in \u001b[36m_download_artifact_from_uri\u001b[39m\u001b[34m(artifact_uri, output_path, lineage_header_info)\u001b[39m\n\u001b[32m    100\u001b[39m \u001b[38;5;250m\u001b[39m\u001b[33;03m\"\"\"\u001b[39;00m\n\u001b[32m    101\u001b[39m \u001b[33;03mArgs:\u001b[39;00m\n\u001b[32m    102\u001b[39m \u001b[33;03m    artifact_uri: The *absolute* URI of the artifact to download.\u001b[39;00m\n\u001b[32m   (...)\u001b[39m\u001b[32m    105\u001b[39m \u001b[33;03m    lineage_header_info: The model lineage header info to be consumed by lineage services.\u001b[39;00m\n\u001b[32m    106\u001b[39m \u001b[33;03m\"\"\"\u001b[39;00m\n\u001b[32m    107\u001b[39m root_uri, artifact_path = _get_root_uri_and_artifact_path(artifact_uri)\n\u001b[32m--> \u001b[39m\u001b[32m108\u001b[39m repo = \u001b[43mget_artifact_repository\u001b[49m\u001b[43m(\u001b[49m\u001b[43martifact_uri\u001b[49m\u001b[43m=\u001b[49m\u001b[43mroot_uri\u001b[49m\u001b[43m)\u001b[49m\n\u001b[32m    110\u001b[39m \u001b[38;5;28;01mif\u001b[39;00m \u001b[38;5;28misinstance\u001b[39m(repo, ModelsArtifactRepository):\n\u001b[32m    111\u001b[39m     \u001b[38;5;28;01mreturn\u001b[39;00m repo.download_artifacts(\n\u001b[32m    112\u001b[39m         artifact_path=artifact_path,\n\u001b[32m    113\u001b[39m         dst_path=output_path,\n\u001b[32m    114\u001b[39m         lineage_header_info=lineage_header_info,\n\u001b[32m    115\u001b[39m     )\n",
      "\u001b[36mFile \u001b[39m\u001b[32m~/proyectos/MLE_Nequi/.venv/lib/python3.12/site-packages/mlflow/store/artifact/artifact_repository_registry.py:133\u001b[39m, in \u001b[36mget_artifact_repository\u001b[39m\u001b[34m(artifact_uri)\u001b[39m\n\u001b[32m    120\u001b[39m \u001b[38;5;28;01mdef\u001b[39;00m\u001b[38;5;250m \u001b[39m\u001b[34mget_artifact_repository\u001b[39m(artifact_uri: \u001b[38;5;28mstr\u001b[39m) -> ArtifactRepository:\n\u001b[32m    121\u001b[39m \u001b[38;5;250m    \u001b[39m\u001b[33;03m\"\"\"\u001b[39;00m\n\u001b[32m    122\u001b[39m \u001b[33;03m    Get an artifact repository from the registry based on the scheme of artifact_uri\u001b[39;00m\n\u001b[32m    123\u001b[39m \n\u001b[32m   (...)\u001b[39m\u001b[32m    131\u001b[39m \u001b[33;03m        requirements.\u001b[39;00m\n\u001b[32m    132\u001b[39m \u001b[33;03m    \"\"\"\u001b[39;00m\n\u001b[32m--> \u001b[39m\u001b[32m133\u001b[39m     \u001b[38;5;28;01mreturn\u001b[39;00m \u001b[43m_artifact_repository_registry\u001b[49m\u001b[43m.\u001b[49m\u001b[43mget_artifact_repository\u001b[49m\u001b[43m(\u001b[49m\u001b[43martifact_uri\u001b[49m\u001b[43m)\u001b[49m\n",
      "\u001b[36mFile \u001b[39m\u001b[32m~/proyectos/MLE_Nequi/.venv/lib/python3.12/site-packages/mlflow/store/artifact/artifact_repository_registry.py:77\u001b[39m, in \u001b[36mArtifactRepositoryRegistry.get_artifact_repository\u001b[39m\u001b[34m(self, artifact_uri)\u001b[39m\n\u001b[32m     72\u001b[39m \u001b[38;5;28;01mif\u001b[39;00m repository \u001b[38;5;129;01mis\u001b[39;00m \u001b[38;5;28;01mNone\u001b[39;00m:\n\u001b[32m     73\u001b[39m     \u001b[38;5;28;01mraise\u001b[39;00m MlflowException(\n\u001b[32m     74\u001b[39m         \u001b[33mf\u001b[39m\u001b[33m\"\u001b[39m\u001b[33mCould not find a registered artifact repository for: \u001b[39m\u001b[38;5;132;01m{\u001b[39;00martifact_uri\u001b[38;5;132;01m}\u001b[39;00m\u001b[33m. \u001b[39m\u001b[33m\"\u001b[39m\n\u001b[32m     75\u001b[39m         \u001b[33mf\u001b[39m\u001b[33m\"\u001b[39m\u001b[33mCurrently registered schemes are: \u001b[39m\u001b[38;5;132;01m{\u001b[39;00m\u001b[38;5;28mlist\u001b[39m(\u001b[38;5;28mself\u001b[39m._registry.keys())\u001b[38;5;132;01m}\u001b[39;00m\u001b[33m\"\u001b[39m\n\u001b[32m     76\u001b[39m     )\n\u001b[32m---> \u001b[39m\u001b[32m77\u001b[39m \u001b[38;5;28;01mreturn\u001b[39;00m \u001b[43mrepository\u001b[49m\u001b[43m(\u001b[49m\u001b[43martifact_uri\u001b[49m\u001b[43m)\u001b[49m\n",
      "\u001b[36mFile \u001b[39m\u001b[32m~/proyectos/MLE_Nequi/.venv/lib/python3.12/site-packages/mlflow/store/artifact/models_artifact_repo.py:69\u001b[39m, in \u001b[36mModelsArtifactRepository.__init__\u001b[39m\u001b[34m(self, artifact_uri)\u001b[39m\n\u001b[32m     63\u001b[39m     \u001b[38;5;28mself\u001b[39m.model_version = \u001b[38;5;28mself\u001b[39m.repo.model_version\n\u001b[32m     64\u001b[39m \u001b[38;5;28;01melse\u001b[39;00m:\n\u001b[32m     65\u001b[39m     (\n\u001b[32m     66\u001b[39m         \u001b[38;5;28mself\u001b[39m.model_name,\n\u001b[32m     67\u001b[39m         \u001b[38;5;28mself\u001b[39m.model_version,\n\u001b[32m     68\u001b[39m         underlying_uri,\n\u001b[32m---> \u001b[39m\u001b[32m69\u001b[39m     ) = \u001b[43mModelsArtifactRepository\u001b[49m\u001b[43m.\u001b[49m\u001b[43m_get_model_uri_infos\u001b[49m\u001b[43m(\u001b[49m\u001b[43martifact_uri\u001b[49m\u001b[43m)\u001b[49m\n\u001b[32m     70\u001b[39m     \u001b[38;5;28mself\u001b[39m.repo = get_artifact_repository(underlying_uri)\n",
      "\u001b[36mFile \u001b[39m\u001b[32m~/proyectos/MLE_Nequi/.venv/lib/python3.12/site-packages/mlflow/store/artifact/models_artifact_repo.py:112\u001b[39m, in \u001b[36mModelsArtifactRepository._get_model_uri_infos\u001b[39m\u001b[34m(uri)\u001b[39m\n\u001b[32m    108\u001b[39m databricks_profile_uri = (\n\u001b[32m    109\u001b[39m     get_databricks_profile_uri_from_artifact_uri(uri) \u001b[38;5;129;01mor\u001b[39;00m mlflow.get_registry_uri()\n\u001b[32m    110\u001b[39m )\n\u001b[32m    111\u001b[39m client = MlflowClient(registry_uri=databricks_profile_uri)\n\u001b[32m--> \u001b[39m\u001b[32m112\u001b[39m name, version = \u001b[43mget_model_name_and_version\u001b[49m\u001b[43m(\u001b[49m\u001b[43mclient\u001b[49m\u001b[43m,\u001b[49m\u001b[43m \u001b[49m\u001b[43muri\u001b[49m\u001b[43m)\u001b[49m\n\u001b[32m    113\u001b[39m download_uri = client.get_model_version_download_uri(name, version)\n\u001b[32m    115\u001b[39m \u001b[38;5;28;01mreturn\u001b[39;00m (\n\u001b[32m    116\u001b[39m     name,\n\u001b[32m    117\u001b[39m     version,\n\u001b[32m    118\u001b[39m     add_databricks_profile_info_to_artifact_uri(download_uri, databricks_profile_uri),\n\u001b[32m    119\u001b[39m )\n",
      "\u001b[36mFile \u001b[39m\u001b[32m~/proyectos/MLE_Nequi/.venv/lib/python3.12/site-packages/mlflow/store/artifact/utils/models.py:99\u001b[39m, in \u001b[36mget_model_name_and_version\u001b[39m\u001b[34m(client, models_uri)\u001b[39m\n\u001b[32m     97\u001b[39m     mv = client.get_model_version_by_alias(model_name, model_alias)\n\u001b[32m     98\u001b[39m     \u001b[38;5;28;01mreturn\u001b[39;00m model_name, mv.version\n\u001b[32m---> \u001b[39m\u001b[32m99\u001b[39m \u001b[38;5;28;01mreturn\u001b[39;00m model_name, \u001b[38;5;28mstr\u001b[39m(\u001b[43m_get_latest_model_version\u001b[49m\u001b[43m(\u001b[49m\u001b[43mclient\u001b[49m\u001b[43m,\u001b[49m\u001b[43m \u001b[49m\u001b[43mmodel_name\u001b[49m\u001b[43m,\u001b[49m\u001b[43m \u001b[49m\u001b[43mmodel_stage\u001b[49m\u001b[43m)\u001b[49m)\n",
      "\u001b[36mFile \u001b[39m\u001b[32m~/proyectos/MLE_Nequi/.venv/lib/python3.12/site-packages/mlflow/store/artifact/utils/models.py:34\u001b[39m, in \u001b[36m_get_latest_model_version\u001b[39m\u001b[34m(client, name, stage)\u001b[39m\n\u001b[32m     32\u001b[39m \u001b[38;5;28;01mif\u001b[39;00m \u001b[38;5;28mlen\u001b[39m(latest) == \u001b[32m0\u001b[39m:\n\u001b[32m     33\u001b[39m     stage_str = \u001b[33m\"\u001b[39m\u001b[33m\"\u001b[39m \u001b[38;5;28;01mif\u001b[39;00m stage \u001b[38;5;129;01mis\u001b[39;00m \u001b[38;5;28;01mNone\u001b[39;00m \u001b[38;5;28;01melse\u001b[39;00m \u001b[33mf\u001b[39m\u001b[33m\"\u001b[39m\u001b[33m and stage \u001b[39m\u001b[33m'\u001b[39m\u001b[38;5;132;01m{\u001b[39;00mstage\u001b[38;5;132;01m}\u001b[39;00m\u001b[33m'\u001b[39m\u001b[33m\"\u001b[39m\n\u001b[32m---> \u001b[39m\u001b[32m34\u001b[39m     \u001b[38;5;28;01mraise\u001b[39;00m MlflowException(\u001b[33mf\u001b[39m\u001b[33m\"\u001b[39m\u001b[33mNo versions of model with name \u001b[39m\u001b[33m'\u001b[39m\u001b[38;5;132;01m{\u001b[39;00mname\u001b[38;5;132;01m}\u001b[39;00m\u001b[33m'\u001b[39m\u001b[38;5;132;01m{\u001b[39;00mstage_str\u001b[38;5;132;01m}\u001b[39;00m\u001b[33m found\u001b[39m\u001b[33m\"\u001b[39m)\n\u001b[32m     35\u001b[39m \u001b[38;5;28;01mreturn\u001b[39;00m \u001b[38;5;28mmax\u001b[39m(\u001b[38;5;28mint\u001b[39m(x.version) \u001b[38;5;28;01mfor\u001b[39;00m x \u001b[38;5;129;01min\u001b[39;00m latest)\n",
      "\u001b[31mMlflowException\u001b[39m: No versions of model with name 'modelo_catboost_prueba' and stage 'Production' found"
     ]
    }
   ],
   "source": [
    "champion_model = mlflow.sklearn.load_model(\"models:/modelo_catboost_prueba/Production\")\n",
    "champion_model.predict(X_test)"
   ]
  },
  {
   "cell_type": "code",
   "execution_count": 40,
   "id": "92f87fe3",
   "metadata": {},
   "outputs": [],
   "source": [
    "space = {\n",
    "    'iterations': 500,\n",
    "    'depth': hp.quniform('depth', 3, 10, 1),\n",
    "    'learning_rate': hp.quniform('learning_rate', 0.1, 0.5, 0.1),\n",
    "    'l2_leaf_reg': hp.uniform('l2_leaf_reg', 1, 10),\n",
    "    'border_count': hp.quniform('border_count', 32, 255, 1),\n",
    "    'subsample': hp.uniform('subsample', 0.7, 1),\n",
    "    'scale_pos_weight': hp.quniform('scale_pos_weight', 1, 10, 0.1),\n",
    "    'random_seed': 0\n",
    "}"
   ]
  },
  {
   "cell_type": "code",
   "execution_count": 61,
   "id": "d7704e06",
   "metadata": {},
   "outputs": [],
   "source": [
    "def objective(space):\n",
    "    clf = CatBoostClassifier(\n",
    "        iterations=int(space['iterations']),\n",
    "        depth=int(space['depth']),\n",
    "        learning_rate=space['learning_rate'],\n",
    "        l2_leaf_reg=space['l2_leaf_reg'],\n",
    "        border_count=int(space['border_count']),\n",
    "        subsample=space['subsample'],\n",
    "        scale_pos_weight=space['scale_pos_weight'],\n",
    "        random_seed=int(space['random_seed']),\n",
    "        verbose=False\n",
    "    )\n",
    "\n",
    "    # Conjunto de evaluación\n",
    "    evaluation = [\n",
    "        (X_train, y_train),\n",
    "        (X_valid, y_valid)\n",
    "    ]\n",
    "\n",
    "    clf.fit(\n",
    "        X_train,\n",
    "        y_train,\n",
    "        eval_set=evaluation,\n",
    "        early_stopping_rounds=10\n",
    "    )\n",
    "\n",
    "    # Predicción y evaluación\n",
    "    pred = clf.predict(X_valid)\n",
    "    F1_SCORE = f1_score(y_valid, pred)\n",
    "    print(\"F1-score:\", F1_SCORE)\n",
    "\n",
    "    return {'loss': -F1_SCORE, 'status': STATUS_OK}  # Minimizar la pérdida"
   ]
  },
  {
   "cell_type": "code",
   "execution_count": 62,
   "id": "20b44d23",
   "metadata": {},
   "outputs": [
    {
     "name": "stdout",
     "output_type": "stream",
     "text": [
      "  0%|          | 0/10 [00:00<?, ?trial/s, best loss=?]"
     ]
    },
    {
     "name": "stdout",
     "output_type": "stream",
     "text": [
      "F1-score:                                             \n",
      "0.8758195851102203                                    \n",
      " 10%|█         | 1/10 [02:07<19:08, 127.64s/trial, best loss: -0.8758195851102203]"
     ]
    },
    {
     "ename": "",
     "evalue": "",
     "output_type": "error",
     "traceback": [
      "\u001b[1;31mThe Kernel crashed while executing code in the current cell or a previous cell. \n",
      "\u001b[1;31mPlease review the code in the cell(s) to identify a possible cause of the failure. \n",
      "\u001b[1;31mClick <a href='https://aka.ms/vscodeJupyterKernelCrash'>here</a> for more info. \n",
      "\u001b[1;31mView Jupyter <a href='command:jupyter.viewOutput'>log</a> for further details."
     ]
    }
   ],
   "source": [
    "trials = Trials()\n",
    "\n",
    "best_hyperparams = fmin(fn = objective,\n",
    "                        space = space,\n",
    "                        algo = tpe.suggest,\n",
    "                        max_evals = 10,\n",
    "                        trials = trials)"
   ]
  }
 ],
 "metadata": {
  "kernelspec": {
   "display_name": ".venv",
   "language": "python",
   "name": "python3"
  },
  "language_info": {
   "codemirror_mode": {
    "name": "ipython",
    "version": 3
   },
   "file_extension": ".py",
   "mimetype": "text/x-python",
   "name": "python",
   "nbconvert_exporter": "python",
   "pygments_lexer": "ipython3",
   "version": "3.12.3"
  }
 },
 "nbformat": 4,
 "nbformat_minor": 5
}
