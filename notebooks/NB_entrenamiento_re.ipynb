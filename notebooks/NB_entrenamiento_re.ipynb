{
 "cells": [
  {
   "cell_type": "code",
   "execution_count": null,
   "id": "ba962991",
   "metadata": {},
   "outputs": [],
   "source": [
    "''' \n",
    "import numpy as np\n",
    "import pandas as pd\n",
    "    \n",
    "from dotenv import load_dotenv\n",
    "import os\n",
    "    \n",
    "import unicodedata\n",
    "import nltk\n",
    "import spacy\n",
    "from nltk.corpus import stopwords\n",
    "from nltk.tokenize import word_tokenize\n",
    "from sklearn.feature_extraction.text import TfidfVectorizer\n",
    "from sklearn.model_selection import train_test_split\n",
    "from catboost import CatBoostClassifier\n",
    "from sklearn.metrics import classification_report, accuracy_score\n",
    "from sklearn.metrics import confusion_matrix, roc_auc_score\n",
    "from sklearn.metrics import precision_recall_curve, auc, precision_score, recall_score, f1_score, fbeta_score, roc_curve, average_precision_score\n",
    "import matplotlib.pyplot as plt\n",
    "import seaborn as sns\n",
    "from sklearn.metrics import ConfusionMatrixDisplay\n",
    "import logging\n",
    "import json\n",
    "import re\n",
    "import string \n",
    "import joblib\n",
    "import warnings\n",
    "from hyperopt import STATUS_OK, Trials, fmin, hp, tpe\n",
    "import mlflow\n",
    "import mlflow.sklearn\n",
    "from sklearn.pipeline import Pipeline\n",
    "from mlflow.models.signature import infer_signature\n",
    "from datetime import datetime\n",
    "'''\n",
    "from sklearn.model_selection import train_test_split\n",
    "from sklearn.metrics import classification_report, accuracy_score\n",
    "from sklearn.metrics import confusion_matrix, roc_auc_score\n",
    "from sklearn.metrics import precision_recall_curve, auc, precision_score, recall_score, f1_score, fbeta_score, roc_curve, average_precision_score\n",
    "from nltk.corpus import stopwords\n",
    "import nltk\n",
    "import logging\n",
    "import mlflow\n",
    "\n",
    "from NB_funciones import CargarDatos\n",
    "from NB_funciones import run_ml_experiment\n",
    "from NB_funciones import get_champion_model\n",
    "from NB_funciones import train_challenger_model\n",
    "from NB_funciones import register_challenger_model\n",
    "from NB_funciones import compare_models\n",
    "from NB_funciones import log_info, log_error\n",
    "\n",
    "#warnings.filterwarnings('ignore')"
   ]
  },
  {
   "cell_type": "code",
   "execution_count": 3,
   "id": "bf94a287",
   "metadata": {},
   "outputs": [
    {
     "name": "stderr",
     "output_type": "stream",
     "text": [
      "[nltk_data] Downloading package stopwords to /home/alejo/nltk_data...\n",
      "[nltk_data]   Package stopwords is already up-to-date!\n",
      "[nltk_data] Downloading package punkt_tab to /home/alejo/nltk_data...\n",
      "[nltk_data]   Package punkt_tab is already up-to-date!\n"
     ]
    }
   ],
   "source": [
    "nltk.download('stopwords')\n",
    "nltk.download('punkt_tab')\n",
    "english_stopwords = stopwords.words('english')"
   ]
  },
  {
   "cell_type": "code",
   "execution_count": 5,
   "id": "b59000e3",
   "metadata": {},
   "outputs": [],
   "source": [
    "# Configuración del logging\n",
    "logging.basicConfig(\n",
    "    filename=\"errores_entrenamiento.log\",\n",
    "    level=logging.DEBUG,\n",
    "    format=\"%(asctime)s - %(levelname)s - %(message)s\"\n",
    ")"
   ]
  },
  {
   "cell_type": "code",
   "execution_count": null,
   "id": "2f6c2bcc",
   "metadata": {},
   "outputs": [],
   "source": [
    "# Funciones para registrar mensajes tanto en log como en consola\n",
    "#def log_info(message):\n",
    "#    print(message)\n",
    "#    logging.info(message)\n",
    "\n",
    "#def log_error(message):\n",
    "#    print(f'ERROR: {message}')\n",
    "#    logging.error(message)"
   ]
  },
  {
   "cell_type": "code",
   "execution_count": 6,
   "id": "bff959c2",
   "metadata": {},
   "outputs": [
    {
     "name": "stderr",
     "output_type": "stream",
     "text": [
      "INFO:root:Archivo /home/alejo/proyectos/MLE_Nequi/datasets/Customer_Support_Twitter/twcs/twcs.csv cargado correctamente.\n"
     ]
    },
    {
     "name": "stdout",
     "output_type": "stream",
     "text": [
      "(2811774, 7)\n"
     ]
    }
   ],
   "source": [
    "ruta = CargarDatos(\"customer_support_twitter_twcs\")  # La clave en .env debe ser RUTA_ARCHIVO\n",
    "data_cst_twcs = ruta.cargar_csv()\n",
    "print(data_cst_twcs.shape)"
   ]
  },
  {
   "cell_type": "code",
   "execution_count": 5,
   "id": "408d558b",
   "metadata": {},
   "outputs": [],
   "source": [
    "data_cst_twcs['inbound'] = data_cst_twcs['inbound'].astype('int')"
   ]
  },
  {
   "cell_type": "code",
   "execution_count": 10,
   "id": "7638a7e3",
   "metadata": {},
   "outputs": [
    {
     "name": "stderr",
     "output_type": "stream",
     "text": [
      "INFO:root:Datos divididos en conjuntos de entrenamiento, validación y prueba correctamente.\n"
     ]
    },
    {
     "name": "stdout",
     "output_type": "stream",
     "text": [
      "X_train:  (1377768,)\n",
      "X_valid:  (590473,)\n",
      "X_test:  (843533,)\n",
      "y_train:  (1377768,)\n",
      "y_valid:  (590473,)\n",
      "y_test:  (843533,)\n",
      "Datos divididos en conjuntos de entrenamiento, validación y prueba correctamente.\n"
     ]
    }
   ],
   "source": [
    "try:\n",
    "    X_train, X_test, y_train, y_test = train_test_split(data_cst_twcs['text'], data_cst_twcs['inbound'], \n",
    "                                                        test_size=0.3, stratify=data_cst_twcs['inbound'], \n",
    "                                                        random_state=42)\n",
    "    X_train, X_valid, y_train, y_valid = train_test_split(X_train, y_train, \n",
    "                                                        test_size=0.3, stratify=y_train, \n",
    "                                                        random_state=42)\n",
    "    print('X_train: ', X_train.shape)\n",
    "    print('X_valid: ', X_valid.shape)\n",
    "    print('X_test: ', X_test.shape)\n",
    "    print('y_train: ', y_train.shape)\n",
    "    print('y_valid: ', y_valid.shape)\n",
    "    print('y_test: ', y_test.shape)\n",
    "    log_info('Datos divididos en conjuntos de entrenamiento, validación y prueba correctamente.')\n",
    "except Exception as e:\n",
    "    log_error(f'Error al dividir los datos: {e}')\n",
    "    raise e"
   ]
  },
  {
   "cell_type": "code",
   "execution_count": 15,
   "id": "c1254ddd",
   "metadata": {},
   "outputs": [
    {
     "name": "stderr",
     "output_type": "stream",
     "text": [
      "INFO:root:Experiment created successfully.\n"
     ]
    },
    {
     "name": "stdout",
     "output_type": "stream",
     "text": [
      "Experimento creado\n"
     ]
    }
   ],
   "source": [
    "# Set the experiment name\n",
    "try:\n",
    "    mlflow.create_experiment(\"experimento_nuevo\")\n",
    "    print(\"Experimento creado\")\n",
    "    logging.info(\"Experiment created successfully.\")\n",
    "except:\n",
    "    mlflow.set_experiment(\"experimento_nuevo\")\n",
    "    print(\"Experimento ya existe\")\n",
    "    logging.info(\"Experiment already exists, set to existing experiment.\")"
   ]
  },
  {
   "cell_type": "code",
   "execution_count": 16,
   "id": "2af82515",
   "metadata": {},
   "outputs": [
    {
     "name": "stdout",
     "output_type": "stream",
     "text": [
      "Iniciando el experimento...\n",
      "0:\tlearn: 0.6316539\ttotal: 327ms\tremaining: 2m 43s\n",
      "100:\tlearn: 0.3638261\ttotal: 18.3s\tremaining: 1m 12s\n",
      "200:\tlearn: 0.3455131\ttotal: 36.4s\tremaining: 54.2s\n",
      "300:\tlearn: 0.3375544\ttotal: 54.3s\tremaining: 35.9s\n",
      "400:\tlearn: 0.3330456\ttotal: 1m 16s\tremaining: 18.8s\n",
      "499:\tlearn: 0.3297846\ttotal: 1m 32s\tremaining: 0us\n"
     ]
    },
    {
     "name": "stderr",
     "output_type": "stream",
     "text": [
      "Successfully registered model 'modelo_nuevo'.\n",
      "Created version '1' of model 'modelo_nuevo'.\n",
      "INFO:root:Modelo registrado con precisión: 0.8513466574514571\n"
     ]
    },
    {
     "name": "stdout",
     "output_type": "stream",
     "text": [
      "Modelo registrado con precisión: 0.8513466574514571\n"
     ]
    }
   ],
   "source": [
    "run_ml_experiment(X_train, y_train, X_test, y_test, english_stopwords, model_name=\"modelo_nuevo\")"
   ]
  },
  {
   "cell_type": "code",
   "execution_count": null,
   "id": "77a08d29",
   "metadata": {},
   "outputs": [
    {
     "name": "stderr",
     "output_type": "stream",
     "text": [
      "INFO:root:No se encontró un modelo modelo_nuevo en producción. Buscando en staging...\n",
      "INFO:root:No se encontró un modelo modelo_nuevo en staging. Buscando la versión más reciente...\n",
      "INFO:root:Modelo campeón cargado: modelo_nuevo version 1\n"
     ]
    },
    {
     "data": {
      "text/plain": [
       "(Pipeline(steps=[('tfidf',\n",
       "                  TfidfVectorizer(max_features=100,\n",
       "                                  stop_words=['a', 'about', 'above', 'after',\n",
       "                                              'again', 'against', 'ain', 'all',\n",
       "                                              'am', 'an', 'and', 'any', 'are',\n",
       "                                              'aren', \"aren't\", 'as', 'at', 'be',\n",
       "                                              'because', 'been', 'before',\n",
       "                                              'being', 'below', 'between',\n",
       "                                              'both', 'but', 'by', 'can',\n",
       "                                              'couldn', \"couldn't\", ...],\n",
       "                                  token_pattern='\\\\b\\\\w+\\\\b')),\n",
       "                 ('catboost',\n",
       "                  <catboost.core.CatBoostClassifier object at 0x7f19c8a4eb10>)]),\n",
       " 'c893536222134b59a599033076b3335c')"
      ]
     },
     "execution_count": 19,
     "metadata": {},
     "output_type": "execute_result"
    }
   ],
   "source": [
    "get_champion_model(model_name=\"modelo_nuevo\") # experiment_name=\"experimento_nuevo\""
   ]
  },
  {
   "cell_type": "code",
   "execution_count": 23,
   "id": "faa801bc",
   "metadata": {},
   "outputs": [
    {
     "name": "stderr",
     "output_type": "stream",
     "text": [
      "INFO:root:Entrenando modelo desafiante con parámetros: {'iterations': 500, 'depth': 6, 'learning_rate': 0.1, 'verbose': 100}\n"
     ]
    },
    {
     "name": "stdout",
     "output_type": "stream",
     "text": [
      "0:\tlearn: 0.6316481\ttotal: 138ms\tremaining: 1m 8s\n",
      "100:\tlearn: 0.3679895\ttotal: 7.32s\tremaining: 28.9s\n",
      "200:\tlearn: 0.3489835\ttotal: 13.9s\tremaining: 20.8s\n",
      "300:\tlearn: 0.3405854\ttotal: 21.4s\tremaining: 14.1s\n",
      "400:\tlearn: 0.3356854\ttotal: 28.2s\tremaining: 6.95s\n"
     ]
    },
    {
     "name": "stderr",
     "output_type": "stream",
     "text": [
      "INFO:root:Modelo desafiante entrenado correctamente\n"
     ]
    },
    {
     "name": "stdout",
     "output_type": "stream",
     "text": [
      "499:\tlearn: 0.3323711\ttotal: 35.3s\tremaining: 0us\n"
     ]
    }
   ],
   "source": [
    "# Entrenar el modelo challenger\n",
    "challenger_model = train_challenger_model(X_train = X_valid, y_train = y_valid)"
   ]
  },
  {
   "cell_type": "code",
   "execution_count": 24,
   "id": "91bd95b3",
   "metadata": {},
   "outputs": [],
   "source": [
    "# Definir métricas de rendimiento (ejemplo)\n",
    "metrics = {\n",
    "    \"accuracy\": accuracy_score(y_test, challenger_model.predict(X_test)),\n",
    "    \"f1_score\": f1_score(y_test, challenger_model.predict(X_test), average='weighted')\n",
    "}"
   ]
  },
  {
   "cell_type": "code",
   "execution_count": 25,
   "id": "87ab80f6",
   "metadata": {},
   "outputs": [
    {
     "name": "stderr",
     "output_type": "stream",
     "text": [
      "Successfully registered model 'Modelo_Campeon_challenger'.\n",
      "Created version '1' of model 'Modelo_Campeon_challenger'.\n",
      "INFO:root:El modelo challenger ha sido registrado exitosamente.\n"
     ]
    },
    {
     "name": "stdout",
     "output_type": "stream",
     "text": [
      "El modelo challenger ha sido registrado exitosamente.\n"
     ]
    }
   ],
   "source": [
    "# Registrar modelo en MLflow\n",
    "registro_exitoso = register_challenger_model(challenger_model, metrics, X_train, y_train, is_champion=False)\n",
    "\n",
    "if registro_exitoso:\n",
    "    log_info(\"El modelo challenger ha sido registrado exitosamente.\")\n",
    "else:\n",
    "    log_error(\"Hubo un problema al registrar el modelo challenger.\")\n"
   ]
  },
  {
   "cell_type": "code",
   "execution_count": 26,
   "id": "9c806494",
   "metadata": {},
   "outputs": [
    {
     "name": "stdout",
     "output_type": "stream",
     "text": [
      "Modelo cargado: Pipeline(steps=[('tfidf',\n",
      "                 TfidfVectorizer(max_features=100,\n",
      "                                 stop_words=['a', 'about', 'above', 'after',\n",
      "                                             'again', 'against', 'ain', 'all',\n",
      "                                             'am', 'an', 'and', 'any', 'are',\n",
      "                                             'aren', \"aren't\", 'as', 'at', 'be',\n",
      "                                             'because', 'been', 'before',\n",
      "                                             'being', 'below', 'between',\n",
      "                                             'both', 'but', 'by', 'can',\n",
      "                                             'couldn', \"couldn't\", ...],\n",
      "                                 token_pattern='\\\\b\\\\w+\\\\b')),\n",
      "                ('catboost',\n",
      "                 <catboost.core.CatBoostClassifier object at 0x7f19c2b2eba0>)])\n"
     ]
    }
   ],
   "source": [
    "# Definir el nombre del modelo que registraste en MLflow\n",
    "model_name = \"modelo_nuevo\"\n",
    "\n",
    "# Cargar el modelo desde MLflow\n",
    "loaded_model = mlflow.sklearn.load_model(f\"models:/{model_name}/latest\")\n",
    "\n",
    "# Verificar que el modelo se cargó correctamente\n",
    "print(\"Modelo cargado:\", loaded_model)\n"
   ]
  },
  {
   "cell_type": "code",
   "execution_count": 29,
   "id": "478f350d",
   "metadata": {},
   "outputs": [],
   "source": [
    "champion_metrics = {\n",
    "    \"accuracy\": accuracy_score(y_test, loaded_model.predict(X_test)),\n",
    "    \"f1_score\": f1_score(y_test, loaded_model.predict(X_test), average='weighted')\n",
    "}"
   ]
  },
  {
   "cell_type": "code",
   "execution_count": 30,
   "id": "d523ab40",
   "metadata": {},
   "outputs": [
    {
     "name": "stderr",
     "output_type": "stream",
     "text": [
      "INFO:root:El modelo desafiante NO supera al campeón en accuracy: 0.8500 vs 0.8513\n",
      "INFO:root:Diferencia absoluta: -0.0014, Diferencia porcentual: -0.16%\n"
     ]
    },
    {
     "data": {
      "text/plain": [
       "(False,\n",
       " {'accuracy': {'champion': 0.8513466574514571,\n",
       "   'challenger': 0.8499620050430747,\n",
       "   'absolute_diff': -0.0013846524083823697,\n",
       "   'percent_diff': -0.16264260818588122},\n",
       "  'f1_score': {'champion': 0.8498914196426405,\n",
       "   'challenger': 0.8486554533144898,\n",
       "   'absolute_diff': -0.001235966328150706,\n",
       "   'percent_diff': -0.145426380309899}},\n",
       " {'champion': 0.8513466574514571,\n",
       "  'challenger': 0.8499620050430747,\n",
       "  'absolute_diff': -0.0013846524083823697,\n",
       "  'percent_diff': -0.16264260818588122})"
      ]
     },
     "execution_count": 30,
     "metadata": {},
     "output_type": "execute_result"
    }
   ],
   "source": [
    "compare_models(champion_metrics = champion_metrics, challenger_metrics = metrics, primary_metric=\"accuracy\", threshold=0.5)"
   ]
  },
  {
   "cell_type": "code",
   "execution_count": null,
   "id": "67e882e2",
   "metadata": {},
   "outputs": [],
   "source": []
  }
 ],
 "metadata": {
  "kernelspec": {
   "display_name": ".venv",
   "language": "python",
   "name": "python3"
  },
  "language_info": {
   "codemirror_mode": {
    "name": "ipython",
    "version": 3
   },
   "file_extension": ".py",
   "mimetype": "text/x-python",
   "name": "python",
   "nbconvert_exporter": "python",
   "pygments_lexer": "ipython3",
   "version": "3.12.3"
  }
 },
 "nbformat": 4,
 "nbformat_minor": 5
}
